{
 "cells": [
  {
   "cell_type": "markdown",
   "metadata": {
    "slideshow": {
     "slide_type": "slide"
    }
   },
   "source": [
    "![JPL Logo](https://www.jpl.nasa.gov/assets/images/logo_nasa_trio_black@2x.png)  \n",
    "# Toward an Engineering Notebook for Systems Modeling\n",
    "\n",
    "## *13 November 2019*\n",
    "## *Ed Seidewitz, Chief Technology Officer*\n",
    "\n",
    "<img src=\"http://www.modeldriven.com/images/MDS%20Logo%20Verticle.gif\" height=\"400\" width=\"400\" align=\"left\">\n"
   ]
  },
  {
   "cell_type": "markdown",
   "metadata": {
    "slideshow": {
     "slide_type": "slide"
    }
   },
   "source": [
    "# SysML v2"
   ]
  },
  {
   "cell_type": "markdown",
   "metadata": {
    "slideshow": {
     "slide_type": "subslide"
    }
   },
   "source": [
    "# Systems Modeling Language™ (SysML<sup>®</sup>)\n",
    "Supports the specification, analysis, design, and verification and validation of complex systems that may include hardware, software, information, processes, personnel, and facilities"
   ]
  },
  {
   "cell_type": "markdown",
   "metadata": {
    "slideshow": {
     "slide_type": "fragment"
    }
   },
   "source": [
    "### SysML v1.0 adopted in 2006\n",
    "Adopted by the Object Management Group (OMG) as a standard profile of UML v2.1"
   ]
  },
  {
   "cell_type": "markdown",
   "metadata": {
    "slideshow": {
     "slide_type": "fragment"
    }
   },
   "source": [
    "### Current version is SysML v1.6 (beta)\n",
    "v1.7 is expected to be the last for SysML v1"
   ]
  },
  {
   "cell_type": "markdown",
   "metadata": {
    "slideshow": {
     "slide_type": "fragment"
    }
   },
   "source": [
    "### Two SysML v2 RFPs have been issued\n",
    "Language in December 2017 (https://www.omg.org/cgi-bin/doc?ad/17-12-02)\n",
    "\n",
    "API and Services in June 2018 (https://www.omg.org/cgi-bin/doc?ad/18-06-03)"
   ]
  },
  {
   "cell_type": "markdown",
   "metadata": {
    "slideshow": {
     "slide_type": "subslide"
    }
   },
   "source": [
    "## SysML v2 Submission Team (SST)\n",
    "A broad team drawn from end user, vendor, academic and government organizations\n",
    "\n",
    "Currently 120+ members from 60+ organizations"
   ]
  },
  {
   "cell_type": "markdown",
   "metadata": {
    "slideshow": {
     "slide_type": "fragment"
    }
   },
   "source": [
    "### Developing submissions to both RFPs"
   ]
  },
  {
   "cell_type": "markdown",
   "metadata": {
    "slideshow": {
     "slide_type": "fragment"
    }
   },
   "source": [
    "### Driven by RFP requirements and user needs"
   ]
  },
  {
   "cell_type": "markdown",
   "metadata": {
    "slideshow": {
     "slide_type": "fragment"
    }
   },
   "source": [
    "### Current Schedule\n",
    "Initial submission in June 2020\n",
    "\n",
    "Revised submission in June 2021\n",
    "\n",
    "Full commercial/production implementations expected by 2022"
   ]
  },
  {
   "cell_type": "markdown",
   "metadata": {
    "slideshow": {
     "slide_type": "subslide"
    }
   },
   "source": [
    "## SysML v2 Pilot Implementation\n",
    "The SST is committed to fully prototyping SysML v2 in a pilot implementation before submitting the complete language proposal."
   ]
  },
  {
   "cell_type": "markdown",
   "metadata": {
    "slideshow": {
     "slide_type": "fragment"
    }
   },
   "source": [
    "### Open source, with support from some commercial tooling"
   ]
  },
  {
   "cell_type": "markdown",
   "metadata": {
    "slideshow": {
     "slide_type": "fragment"
    }
   },
   "source": [
    "### Developed incrementally\n",
    "Monthly internal releasees\n",
    "\n",
    "Quarterly public releases\n",
    "* First release available at http://openmbee.org/sysml-v2-release/2019-09"
   ]
  },
  {
   "cell_type": "markdown",
   "metadata": {
    "slideshow": {
     "slide_type": "subslide"
    }
   },
   "source": [
    "## SysML v2 Status"
   ]
  },
  {
   "cell_type": "markdown",
   "metadata": {
    "slideshow": {
     "slide_type": "fragment"
    }
   },
   "source": [
    "### Currently focusing on textual notation, with limited graphical visualization\n",
    "SysML v2 will have a complete textual as well as graphical notation\n",
    "\n",
    "Textual notation can be implemented more quickly and incrementally than graphical notation"
   ]
  },
  {
   "cell_type": "markdown",
   "metadata": {
    "slideshow": {
     "slide_type": "fragment"
    }
   },
   "source": [
    "### First pubic release available at http://openmbee.org/sysml-v2-release/2019-09\n",
    "Initial capabilities for integrated structural and behavioral modeling\n",
    "* Block definition and decomposition\n",
    "* Ports and connectors\n",
    "* Activities and actions\n",
    "* \"Usage-focused\" moodeling"
   ]
  },
  {
   "cell_type": "markdown",
   "metadata": {
    "slideshow": {
     "slide_type": "slide"
    }
   },
   "source": [
    "# Jupyter"
   ]
  },
  {
   "cell_type": "markdown",
   "metadata": {
    "slideshow": {
     "slide_type": "subslide"
    }
   },
   "source": [
    "## Project Jupyter"
   ]
  },
  {
   "cell_type": "markdown",
   "metadata": {
    "slideshow": {
     "slide_type": "fragment"
    }
   },
   "source": [
    "\"Project Jupyter exists to develop open-source software, open-standards, and services for interactive computing\" (http://jupyter.org)"
   ]
  },
  {
   "cell_type": "markdown",
   "metadata": {
    "slideshow": {
     "slide_type": "fragment"
    }
   },
   "source": [
    "### Interactive programming\n",
    "Originally based on the Python programming language\n",
    "\n",
    "Now supports \"dozens of programming languages\""
   ]
  },
  {
   "cell_type": "markdown",
   "metadata": {
    "slideshow": {
     "slide_type": "fragment"
    }
   },
   "source": [
    "### Jupyter Notebook\n",
    "\"The Jupyter Notebook is an open-source web application that allows you to create and share documents that contain live code, equations, visualizations and narrative text.\" "
   ]
  },
  {
   "cell_type": "markdown",
   "metadata": {
    "slideshow": {
     "slide_type": "subslide"
    }
   },
   "source": [
    "## Jupyter at JPL"
   ]
  },
  {
   "cell_type": "markdown",
   "metadata": {
    "slideshow": {
     "slide_type": "fragment"
    }
   },
   "source": [
    "### Started with grassroots use"
   ]
  },
  {
   "cell_type": "markdown",
   "metadata": {
    "slideshow": {
     "slide_type": "fragment"
    }
   },
   "source": [
    "### More recently supported by CAE\n",
    "JPL JupyterHub installation at https://cae-jupyter.jpl.nasa.gov/ (internal access)"
   ]
  },
  {
   "cell_type": "markdown",
   "metadata": {
    "slideshow": {
     "slide_type": "fragment"
    }
   },
   "source": [
    "### Increasingly integrated with other products\n",
    "JPL propopsed integrating the SysML v2 into Jupyter"
   ]
  },
  {
   "cell_type": "markdown",
   "metadata": {
    "slideshow": {
     "slide_type": "subslide"
    }
   },
   "source": [
    "## Jupyter and SysML v2\n",
    "The SysML v2 textual notation is integrated as another Jupyter \"language kernel\""
   ]
  },
  {
   "cell_type": "markdown",
   "metadata": {
    "slideshow": {
     "slide_type": "fragment"
    }
   },
   "source": [
    "### Goals"
   ]
  },
  {
   "cell_type": "markdown",
   "metadata": {
    "slideshow": {
     "slide_type": "fragment"
    }
   },
   "source": [
    "*Near term*\n",
    "* A way to quickly create SysML v2 models\n",
    "* A \"no install\" platform to track the latest incremental releases of the language \n",
    "  * via the JupyterHub deployment available to SST members at http://jupyter.openmbee.org"
   ]
  },
  {
   "cell_type": "markdown",
   "metadata": {
    "slideshow": {
     "slide_type": "fragment"
    }
   },
   "source": [
    "*Long term*\n",
    "* A model-based engineering analysis environment\n",
    "* A means to interchange and integrate system engineering models"
   ]
  },
  {
   "cell_type": "markdown",
   "metadata": {
    "slideshow": {
     "slide_type": "slide"
    }
   },
   "source": [
    "# Mass Rollup Demo"
   ]
  },
  {
   "cell_type": "markdown",
   "metadata": {
    "slideshow": {
     "slide_type": "subslide"
    }
   },
   "source": [
    "## Massed Things\n",
    "\n",
    "To create a simple mass rollup example, we first define the general concept of a `MassedThing` with two mass properties:\n",
    "* `mass` - The mass of the thing itself, not including the mass of any composite parts it may have.\n",
    "* `totalMass` - The total mass of the thing, including the mass of its composite parts."
   ]
  },
  {
   "cell_type": "code",
   "execution_count": 12,
   "metadata": {
    "slideshow": {
     "slide_type": "fragment"
    }
   },
   "outputs": [
    {
     "data": {
      "text/plain": [
       "Block MassedThing (5a84b767)\n"
      ]
     },
     "execution_count": 12,
     "metadata": {},
     "output_type": "execute_result"
    }
   ],
   "source": [
    "block MassedThing {\n",
    "    value mass :> ISQ::mass; \n",
    "    value totalMass :> ISQ::mass;\n",
    "}"
   ]
  },
  {
   "cell_type": "markdown",
   "metadata": {
    "slideshow": {
     "slide_type": "subslide"
    }
   },
   "source": [
    "## Simple and Composite Things\n",
    "\n",
    "Next we define two kinds of usages of `MassedThing`:\n",
    "* `simpleThing`, which has no composite parts, so its `totalMass` is just the same as its `mass`.\n",
    "* `compositeThing`, which has composite parts (`subcomponents`), so its `totalMass` is the some of its `mass` plus the `totalMass` of all its composite parts."
   ]
  },
  {
   "cell_type": "code",
   "execution_count": 13,
   "metadata": {
    "slideshow": {
     "slide_type": "fragment"
    }
   },
   "outputs": [
    {
     "data": {
      "text/plain": [
       "PartProperty simpleThing (1499759c)\n",
       "PartProperty compositeThing (2a95f03e)\n"
      ]
     },
     "execution_count": 13,
     "metadata": {},
     "output_type": "execute_result"
    }
   ],
   "source": [
    "part simpleThing : MassedThing {\n",
    "    value totalMass redefines MassedThing::totalMass = mass;\n",
    "}\n",
    "\n",
    "part compositeThing : MassedThing {\n",
    "    import RealFunctions::sum; \n",
    "    \n",
    "    part subcomponents: MassedThing[*];\n",
    "\n",
    "    value totalMass redefines MassedThing::totalMass =\n",
    "        mass + sum(subcomponents.totalMass); \n",
    "}"
   ]
  },
  {
   "cell_type": "markdown",
   "metadata": {
    "slideshow": {
     "slide_type": "subslide"
    }
   },
   "source": [
    "## Spacecraft Components and Systems\n",
    "\n",
    "Then we can apply the general model to specify that a `SpacecraftComponent` is a `MassedThing` and a `spacecraftSystem` is a composite `SpacecraftComponent` (that is, both a `SpacecraftComponent` _and_ a `compositeThing`) whose `subcomponents` are its `subSystems`."
   ]
  },
  {
   "cell_type": "code",
   "execution_count": 14,
   "metadata": {
    "slideshow": {
     "slide_type": "fragment"
    }
   },
   "outputs": [
    {
     "data": {
      "text/plain": [
       "Block SpacecraftComponent (266a6235)\n",
       "PartProperty spacecraftSystem (7ae2ee68)\n"
      ]
     },
     "execution_count": 14,
     "metadata": {},
     "output_type": "execute_result"
    }
   ],
   "source": [
    "block SpacecraftComponent :> MassedThing {\n",
    "    value identifier: ScalarValues::String;\n",
    "}\n",
    "\n",
    "part spacecraftSystem: SpacecraftComponent :> compositeThing {\n",
    "    part subsystems[*] :> spacecraftSystem redefines subcomponents;    \n",
    "}"
   ]
  },
  {
   "cell_type": "markdown",
   "metadata": {
    "slideshow": {
     "slide_type": "subslide"
    }
   },
   "source": [
    "## Spacecraft Decomposition\n",
    "\n",
    "A `spacecraft` is just a top-level `spacecraftSystem` whose subsytems are the main spacecraft systems."
   ]
  },
  {
   "cell_type": "code",
   "execution_count": 15,
   "metadata": {
    "code_folding": [
     0,
     4
    ],
    "slideshow": {
     "slide_type": "fragment"
    }
   },
   "outputs": [
    {
     "data": {
      "text/plain": [
       "Block PropulsionSystem (6afc43e0)\n",
       "Block PowerSystem (5e1213fe)\n",
       "PartProperty spacecraft (521d9522)\n"
      ]
     },
     "execution_count": 15,
     "metadata": {},
     "output_type": "execute_result"
    }
   ],
   "source": [
    "block PropulsionSystem :> SpacecraftComponent { \n",
    "    // ...\n",
    "}\n",
    "\n",
    "block PowerSystem :> SpacecraftComponent { \n",
    "    // ...\n",
    "}\n",
    "\n",
    "part spacecraft :> spacecraftSystem {\n",
    "    part propulsion: PropulsionSystem subsets subsystems;    \n",
    "    part power: PowerSystem subsets subsystems;\n",
    "    // etc...\n",
    "}"
   ]
  },
  {
   "cell_type": "markdown",
   "metadata": {
    "slideshow": {
     "slide_type": "subslide"
    }
   },
   "source": [
    "## Specific Spacecraft Configuration\n",
    "\n",
    "A configuration for a specific spacecraft gives the masses for each of the subsystems -- and can even add additional subsystems as appropriate."
   ]
  },
  {
   "cell_type": "code",
   "execution_count": 19,
   "metadata": {
    "slideshow": {
     "slide_type": "fragment"
    }
   },
   "outputs": [
    {
     "data": {
      "text/plain": [
       "PartProperty spacecraft_1 (23364f5e)\n"
      ]
     },
     "execution_count": 19,
     "metadata": {},
     "output_type": "execute_result"
    }
   ],
   "source": [
    "part spacecraft_1 :> spacecraft {\n",
    "    import SI::*;\n",
    "    \n",
    "    redefines mass = 1000@[kg];\n",
    "    \n",
    "    part redefines propulsion {\n",
    "        redefines mass = 100@[kg];\n",
    "    }\n",
    "    \n",
    "    part redefines power {\n",
    "        redefines mass = 50@[kg];\n",
    "        part battery subsets subsystems {\n",
    "            redefines mass = 10@[kg];\n",
    "        }\n",
    "    }\n",
    "}"
   ]
  },
  {
   "cell_type": "markdown",
   "metadata": {
    "slideshow": {
     "slide_type": "fragment"
    }
   },
   "source": [
    "If the `spacecraft_1::totalMass` was properly evaluated above, the result should be `1160.0@[kg]`."
   ]
  },
  {
   "cell_type": "markdown",
   "metadata": {
    "slideshow": {
     "slide_type": "slide"
    }
   },
   "source": [
    "# Vehicle Model Example"
   ]
  },
  {
   "cell_type": "code",
   "execution_count": null,
   "metadata": {
    "code_folding": [
     2,
     34,
     41,
     46,
     84,
     119
    ],
    "slideshow": {
     "slide_type": "subslide"
    }
   },
   "outputs": [],
   "source": [
    "package VehicleModel_1{\n",
    "    package ModelLibrary{\n",
    "        package PartDefinitions{\n",
    "            block Vehicle {\n",
    "                value mass :> ISQ::mass;\n",
    "            }\n",
    "            block Engine;\n",
    "            block Cylinder;\n",
    "            block Transmission;\n",
    "            block Driveshaft;\n",
    "            block AxleAssembly;\n",
    "            block Axle;\n",
    "            block FrontAxle:>Axle{\n",
    "                value steeringAngle:ScalarValues::Real;\n",
    "            }\n",
    "            block HalfAxle;\n",
    "            block Differential;\n",
    "            block Wheel;\n",
    "        }\n",
    "        package PortDefinitions{\n",
    "            port def FuelCmdPort;\n",
    "            port def DrivePwrPort;\n",
    "            port def ClutchPort;\n",
    "            port def ShaftPort_a;\n",
    "            port def ShaftPort_b;\n",
    "            port def ShaftPort_c;\n",
    "            port def ShaftPort_d;\n",
    "            port def DiffPort;\n",
    "            port def AxlePort;\n",
    "            port def AxleToWheelPort;\n",
    "            port def WheelToAxlePort;\n",
    "            port def WheelToRoadPort;\n",
    "            port def VehicleToRoadPort;\n",
    "        }\n",
    "        package FlowDefinitions{\n",
    "            // This defines Torque as an alias for ISQ::Torque.\n",
    "            value type Torque is ISQ::TorqueValue;\n",
    "            value type FuelCmd;\n",
    "        }\n",
    "        package InterfaceDefinitions{\n",
    "            import PortDefinitions::*;\n",
    "            interface def EngineToTransmissionInterface{\n",
    "                end p1:DrivePwrPort;\n",
    "                end p2:ClutchPort;\n",
    "            }\n",
    "        }\n",
    "        package ActionDefinitions{\n",
    "            import FlowDefinitions::*;\n",
    "            activity ProvidePower (\n",
    "                in fuelCmd:FuelCmd,\n",
    "                out wheelToRoadTorque:Torque[2]\n",
    "            );\n",
    "            activity GenerateTorque (\n",
    "                in fuelCmd:FuelCmd,\n",
    "                out engineTorque:Torque\n",
    "            );\n",
    "            activity AmplifyTorque (\n",
    "                in engineTorque:Torque,\n",
    "                out transmissionTorque:Torque\n",
    "            );\n",
    "            activity TransferTorque (\n",
    "                in transmissionTorque:Torque,\n",
    "                out driveshaftTorque:Torque\n",
    "            );\n",
    "            activity DistributeTorque (\n",
    "                in driveshaftTorque:Torque,\n",
    "                out wheelToRoadTorque:Torque[2]\n",
    "            );\n",
    "        }\n",
    "        package ValueDefinitions{\n",
    "            import ScalarValues::*;\n",
    "        }\n",
    "    }\n",
    "    package VehicleConfigurations{\n",
    "        import ModelLibrary::*;\n",
    "        import ModelLibrary::PartDefinitions::*;\n",
    "        import ModelLibrary::PortDefinitions::*;\n",
    "        import ModelLibrary::FlowDefinitions::*;\n",
    "        import ModelLibrary::InterfaceDefinitions::*;\n",
    "        import ModelLibrary::ActionDefinitions::*;\n",
    "        import ModelLibrary::ValueDefinitions::*;\n",
    "        \n",
    "        package VehicleConfiguration_a{\n",
    "            package VehiclePartsTree{\n",
    "                part vehicle_a:Vehicle{\n",
    "                    value mass redefines mass=1750;\n",
    "                    part frontAxleAssembly:AxleAssembly{\n",
    "                        part frontAxle:Axle;\n",
    "                        part frontWheels:Wheel[2];\n",
    "                    }\n",
    "                    part rearAxleAssembly:AxleAssembly{\n",
    "                        part rearAxle:Axle;\n",
    "                        part rearWheels:Wheel[2];\n",
    "                    }\n",
    "                }\n",
    "            }\n",
    "            package VehicleActionTree{\n",
    "                \n",
    "            }\n",
    "        }\n",
    "        package VehicleConfiguration_b{\n",
    "            import VehicleConfiguration_a::*;\n",
    "            import VehicleConfiguration_a::VehiclePartsTree::*;\n",
    "            package VehiclePartsTree{\n",
    "                part vehicle_b :> vehicle_a{\n",
    "                     value mass redefines vehicle_a::mass=2000;\n",
    "                    /*adding ports to parts. will add ports to blocks later and redefine here*/\n",
    "                    port fuelCmdPort:FuelCmdPort;\n",
    "                    port vehicleToRoadPort:VehicleToRoadPort{\n",
    "                        port wheelToRoadPort1:WheelToRoadPort;\n",
    "                        port wheelToRoadPort2:WheelToRoadPort;\n",
    "                    }\n",
    "                    perform VehicleActionTree::providePower;\n",
    "                    part frontAxleAssembly redefines vehicle_a::frontAxleAssembly{\n",
    "                        port shaftPort_d:ShaftPort_d;\n",
    "                        part frontAxle:FrontAxle redefines vehicle_a::frontAxleAssembly::frontAxle;\n",
    "                        part frontWheel1:>frontWheels=frontWheels[1];\n",
    "                        part frontWheel2:>frontWheels=frontWheels[2];\n",
    "                    }\n",
    "                    part rearAxleAssembly redefines vehicle_a::rearAxleAssembly{\n",
    "                        port shaftPort_d:ShaftPort_d;\n",
    "                        perform VehicleActionTree::providePower::distributeTorque;\n",
    "                        part differential:Differential{\n",
    "                            port shaftPort_d:ShaftPort_d;\n",
    "                            port leftDiffPort:DiffPort;\n",
    "                            port rightDiffPort:DiffPort;\n",
    "                        }\n",
    "                        part rearAxle redefines vehicle_a::rearAxleAssembly::rearAxle{\n",
    "                            part leftHalfAxle:HalfAxle{\n",
    "                                port leftAxleToDiffPort:AxlePort;\n",
    "                                port leftAxleToWheelPort:AxlePort;\n",
    "                            }\n",
    "                            part rightHalfAxle:HalfAxle{\n",
    "                                port rightAxleToDiffPort:AxlePort;\n",
    "                                port rightAxleToWheelPort:AxlePort;\n",
    "                            }\n",
    "                        }\n",
    "                        part rearWheel1:>rearWheels=rearWheels[1]{\n",
    "                            port wheelToAxlePort:WheelToAxlePort;\n",
    "                            port wheelToRoadPort:WheelToRoadPort;\n",
    "                        }\n",
    "                        part rearWheel2:>rearWheels=rearWheels[2]{\n",
    "                            port wheelToAxlePort:WheelToAxlePort;\n",
    "                            port wheelToRoadPort:WheelToRoadPort;\n",
    "                        }\n",
    "                        bind shaftPort_d=differential::shaftPort_d;\n",
    "                        connect differential::leftDiffPort to rearAxle::leftHalfAxle::leftAxleToDiffPort;\n",
    "                        connect differential::rightDiffPort to rearAxle::rightHalfAxle::rightAxleToDiffPort;\n",
    "                        connect rearAxle::leftHalfAxle::leftAxleToDiffPort to rearWheel1::wheelToAxlePort;\n",
    "                        connect rearAxle::rightHalfAxle::rightAxleToDiffPort to rearWheel2::wheelToAxlePort;\n",
    "                    }\n",
    "                    part engine:Engine{\n",
    "                        port fuelCmdPort:FuelCmdPort;\n",
    "                        port drivePwrPort:DrivePwrPort{\n",
    "                            out engineTorque:Torque;\n",
    "                        }\n",
    "                        part cylinders:Cylinder[4];\n",
    "                        perform VehicleActionTree::providePower::generateTorque;\n",
    "                    }\n",
    "                    part transmission:Transmission{\n",
    "                        port clutchPort:ClutchPort{\n",
    "                            in engineTorque:Torque;\n",
    "                        }\n",
    "                        port shaftPort_a:ShaftPort_a;\n",
    "                        perform VehicleActionTree::providePower::amplifyTorque;\n",
    "                    }\n",
    "                    part driveshaft:Driveshaft{\n",
    "                        port shaftPort_b:ShaftPort_b;\n",
    "                        port shaftPort_c:ShaftPort_c;\n",
    "                        perform VehicleActionTree::providePower::transferTorque;\n",
    "                    }\n",
    "                    bind vehicle_b::fuelCmdPort=vehicle_b::engine::fuelCmdPort;\n",
    "                    connect engine::drivePwrPort to transmission::clutchPort; \n",
    "                    interface engineToTransmissionInterface:EngineToTransmissionInterface\n",
    "                        connect p1=>engine::drivePwrPort to p2=>transmission::clutchPort{\n",
    "                             perform VehicleActionTree::providePower::generateToAmplify;\n",
    "                        }\n",
    "                    connect transmission::shaftPort_a to driveshaft::shaftPort_b; \n",
    "                    connect driveshaft::shaftPort_c to rearAxleAssembly::shaftPort_d;\n",
    "                    bind rearAxleAssembly::rearWheel1::wheelToRoadPort=vehicle_b::vehicleToRoadPort::wheelToRoadPort1;\n",
    "                    bind rearAxleAssembly::rearWheel2::wheelToRoadPort=vehicle_b::vehicleToRoadPort::wheelToRoadPort2;\n",
    "                }\n",
    "            }\n",
    "            package VehicleActionTree{\n",
    "                action providePower:ProvidePower{\n",
    "                    // No successions (control flows) between these actions, because the\n",
    "                    // flows between them are continuous streams.\n",
    "                    action generateTorque:GenerateTorque (\n",
    "                        in = providePower::fuelCmd,\n",
    "                        out engineTorque);\n",
    "                    action amplifyTorque:AmplifyTorque (\n",
    "                        in engineTorque,\n",
    "                        out transmissionTorque\n",
    "                    );\n",
    "                    stream generateToAmplify from generateTorque::engineTorque to amplifyTorque::engineTorque;\n",
    "                    action transferTorque:TransferTorque (\n",
    "                        in transmissionTorque stream from transferTorque::transmissionTorque\n",
    "                    );\n",
    "                    action distributeTorque:DistributeTorque;\n",
    "                }\n",
    "            }\n",
    "        }\n",
    "    }\n",
    "}"
   ]
  },
  {
   "cell_type": "markdown",
   "metadata": {
    "slideshow": {
     "slide_type": "slide"
    }
   },
   "source": [
    "## \"Magic\" Commands"
   ]
  },
  {
   "cell_type": "markdown",
   "metadata": {
    "slideshow": {
     "slide_type": "subslide"
    }
   },
   "source": [
    "## Showing Elements\n",
    "\n",
    "The `%show <name>` \"magic\" command shows the parsed syntax tree for the named element."
   ]
  },
  {
   "cell_type": "markdown",
   "metadata": {
    "slideshow": {
     "slide_type": "fragment"
    }
   },
   "source": [
    "```sysml\n",
    "part spacecraft :> spacecraftSystem {\n",
    "    part propulsion: PropulsionSystem subsets subsystems;    \n",
    "    part power: PowerSystem subsets subsystems;\n",
    "}\n",
    "```"
   ]
  },
  {
   "cell_type": "code",
   "execution_count": 20,
   "metadata": {
    "slideshow": {
     "slide_type": "fragment"
    }
   },
   "outputs": [
    {
     "data": {
      "text/plain": [
       "PartProperty spacecraft (521d9522)\n",
       "  [Subsetting] PartProperty spacecraftSystem (7ae2ee68)\n",
       "  [FeatureMembership] PartProperty propulsion (42d2d928)\n",
       "    [FeatureTyping] Block PropulsionSystem (6afc43e0)\n",
       "    [Subsetting] PartProperty subsystems (58872da2)\n",
       "  [FeatureMembership] PartProperty power (c11bf6f)\n",
       "    [FeatureTyping] Block PowerSystem (5e1213fe)\n",
       "    [Subsetting] PartProperty subsystems (58872da2)\n"
      ]
     },
     "execution_count": 20,
     "metadata": {},
     "output_type": "execute_result"
    }
   ],
   "source": [
    "%show spacecraft"
   ]
  },
  {
   "cell_type": "markdown",
   "metadata": {
    "slideshow": {
     "slide_type": "subslide"
    }
   },
   "source": [
    "## Publishing Models\n",
    "\n",
    "The `%publish <name>` command \"publishes\" the model graph rooted in the named element to a prototype repository via the proposed standard API. \n",
    "\n",
    "* The API endpoint currently used is for a single, publicly available instance of the repository.\n",
    "* All elements directly *and* indirectly accessible from the specified root element are saved -- even if they come from library models. (This means that even small user models can result in a lot being saved.)\n",
    "* Each publish of a model creates a new copy in the repository."
   ]
  },
  {
   "cell_type": "raw",
   "metadata": {
    "slideshow": {
     "slide_type": "fragment"
    }
   },
   "source": [
    "(This cell is currently disabled to prevent accidental publishing.)\n",
    "%publish spacecraft"
   ]
  },
  {
   "cell_type": "markdown",
   "metadata": {
    "slideshow": {
     "slide_type": "subslide"
    }
   },
   "source": [
    "## Visualizing Models\n",
    "\n",
    "Tom Saywer Software is developing graphical visualization for SysML v2. A prototype tool is currently available at http://solutions.tomsawyer.com:8080/SysML2 to visualize models published to the repository."
   ]
  },
  {
   "cell_type": "markdown",
   "metadata": {
    "slideshow": {
     "slide_type": "slide"
    }
   },
   "source": [
    "# Moving Forward\n",
    "\n"
   ]
  },
  {
   "cell_type": "markdown",
   "metadata": {
    "slideshow": {
     "slide_type": "subslide"
    }
   },
   "source": [
    "## Next public release: 2019-12\n",
    "Available early January 2020\n",
    "\n",
    "### State machines\n",
    "### Individual and snapshot modeling\n",
    "### Constraints (?)"
   ]
  },
  {
   "cell_type": "markdown",
   "metadata": {
    "slideshow": {
     "slide_type": "subslide"
    }
   },
   "source": [
    "## Additional Jupyter notebook capabiities\n",
    "\n",
    "### Import of published models\n",
    "### Incremental update of published models\n",
    "### In-notebook visualization\n",
    "### Integration with analysis tools"
   ]
  }
 ],
 "metadata": {
  "celltoolbar": "Slideshow",
  "kernelspec": {
   "display_name": "SysML",
   "language": "sysml",
   "name": "sysml"
  },
  "language_info": {
   "codemirror_mode": "sysml",
   "file_extension": ".sysml",
   "mimetype": "text/x-sysml",
   "name": "SysML",
   "pygments_lexer": "java",
   "version": "1.0.0"
  }
 },
 "nbformat": 4,
 "nbformat_minor": 2
}
