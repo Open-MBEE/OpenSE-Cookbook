{
 "cells": [
  {
   "cell_type": "markdown",
   "metadata": {},
   "source": [
    "## Simple Static Volume Example\n",
    "\n",
    "From the OpenSE Cookbook, [Simple Static Roll Up Pattern](https://mms.openmbee.org/alfresco/mmsapp/mms.html#/projects/PROJECT-ID_2_2_17_7_33_25_AM_3ccfaf88_159fe0d7ba9__7d4e_cae_tw_jpl_nasa_gov_127_0_0_1/master/documents/_18_5_2_e64033a_1513278979739_556269_28755/views/_18_0_6_baa02e2_1488179002585_271114_52894)"
   ]
  },
  {
   "cell_type": "code",
   "execution_count": null,
   "metadata": {},
   "outputs": [],
   "source": [
    "package SimpleStaticVolumeExample{\n",
    "    package Analysis{\n",
    "        import ScalarValues::Real;\n",
    "        import ScalarFunctions::*;\n",
    "        import Structure::*;\n",
    "\n",
    "        block AnalysisContext{\n",
    "            part subsystem : SubsystemWithVolume[0..*];\n",
    "\n",
    "            value offset : Real = 0.0;\n",
    "            value totalVolume : Real;\n",
    "                \n",
    "            constraint sum : TotalChildren(\n",
    "                child = SubsystemWithVolume::volume, \n",
    "                total = totalVolume,\n",
    "                offset = offset);\n",
    "        }\n",
    "\n",
    "        constraint def TotalChildren(child : Real[0..*], total : Real, offset : Real){\n",
    "            total = sum(child) + offset;\n",
    "        }\n",
    "    }\n",
    "\n",
    "    package Structure{\n",
    "        import ScalarValues::Real;\n",
    "        import Analysis::*;\n",
    "        \n",
    "        block SubsystemWithVolume{\n",
    "            value volume : Real;\n",
    "        }\n",
    "\n",
    "        block ComponentA :> SubsystemWithVolume;\n",
    "        block ComponentB :> SubsystemWithVolume;\n",
    "        block ComponentC :> SubsystemWithVolume;\n",
    "        block ComponentD :> SubsystemWithVolume;\n",
    "\n",
    "        individual def analysisContext :> AnalysisContext;\n",
    "        \n",
    "        snapshot analysisContextExample : analysisContext{\n",
    "            //Owner of redefining feature should be a specialization \n",
    "            //of owner of redefined feature error for all of the following\n",
    "            :>> ComponentA::volume = 10.0;\n",
    "            :>> ComponentB::volume = 8.0;\n",
    "            :>> ComponentC::volume = 2.5;\n",
    "            :>> ComponentD::volume = 9.0;\n",
    "        }\n",
    "    }\n",
    "}"
   ]
  },
  {
   "cell_type": "code",
   "execution_count": null,
   "metadata": {},
   "outputs": [],
   "source": [
    "%viz --view=Interconnection SimpleStaticVolumeExample"
   ]
  },
  {
   "cell_type": "code",
   "execution_count": null,
   "metadata": {},
   "outputs": [],
   "source": []
  }
 ],
 "metadata": {
  "kernelspec": {
   "display_name": "SysML",
   "language": "sysml",
   "name": "sysml"
  },
  "language_info": {
   "codemirror_mode": "sysml",
   "file_extension": ".sysml",
   "mimetype": "text/x-sysml",
   "name": "SysML",
   "pygments_lexer": "java",
   "version": "1.0.0"
  }
 },
 "nbformat": 4,
 "nbformat_minor": 2
}
