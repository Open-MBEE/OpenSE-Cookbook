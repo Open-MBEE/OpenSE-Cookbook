{
 "cells": [
  {
   "cell_type": "markdown",
   "metadata": {},
   "source": [
    "<h1>Simple Static Example</h1>\n",
    "    <h2>Intent</h2>\n",
    "        <p> Roll-up calculations of system resources (e.g. total mass, cost, power, or another system dimension) are among the most common use cases in systems engineering. System engineers want to perform calculations based on the specific values of all the components in the system. The Simple Static Roll-up pattern provides system modelers a solution to solve common domain issues, and consists of standard constructs that are applicable to most domains.  If the modeler desires to perform analysis of a system where the values of the subsystem are independent of the system's behavior the Simple Static Roll-up pattern should be reused and applied in their domain specific construct </p>\n",
    "    <h2>Motivation</h2>\n",
    "        <p>The overall motivation for system engineers to apply the pattern is the desire to have requirements that are traced to to design artifacts, and to have a method to assert that a system design satisfies a set of requirements. Through SysML patterns, analysis specifications can be defined and the modeler can verify, for instance, whether the resource consumption of a system satisfies an initial requirement. If a system modeler wants to perform analysis of a complex system that consists of components whose value properties are state independent, and the modeler is familiarized with running simulations, the Simple Static Roll-up Pattern can be configured to their system.</p>\n",
    "        <p>The Simple Static Roll-up supports the analysis of a system design which is independent of the component's operational states. The Simple Static Roll-up pattern can be applied to a model in which the product breakdown structure of the system is specified.  \n",
    "The components aggregated in the roll-up must share a common value property that does not change (static) throughout the component's life-cycle. Through the application of the pattern, each component's static values can be recursively propagated up a hierarchy of components characterized by these values.</p>\n",
    "        <p>To apply the pattern to a system, the modeler needs to augment the components of the system design for a particular resource in order to propagate the values up the system hierarchy.  The pattern must be configured to the system to specify the analysis context using the system's design, states, properties, and relationships. Only then can the pattern provide a context as to whether the design satisfies a set of formalized requirements.</p>\n",
    "    <h2>Concept</h2>\n",
    "        <p>The Simple Static Roll-up pattern consists of the following model elements; the Simple Static Resource Roll-up Aspect block, and the static values of the components in a system that are to be summed.</p>\n",
    "        <p>One method of propagating the static values of a system is applying an aspect block, which calculates the total value (totalProperty) of the static property (staticProperty). The rollup takes in systems as its parameter, and every system that is part of the rollup aspect analysis is factored into the calculation of totalProperty which is calculated from the sum of the static properties of the subcomponents or children systems and then an additional offset is added which accounts for any other factors that may affect the final value. The children in this rollup pattern are defined as Systems, which all have the staticProperty attribute. Within the rollup aspect block, there may be an infinite amount of children and so the system part in the rollup aspect is marked with an astrisk which represents that there can be any number of child systems passed into the rollup. </p>"
   ]
  },
  {
   "cell_type": "code",
   "execution_count": 16,
   "metadata": {},
   "outputs": [
    {
     "data": {
      "text/plain": [
       "Package Pattern (111c49be-80c6-4fe9-af6b-64becb0e0b7e)\n"
      ]
     },
     "execution_count": 16,
     "metadata": {},
     "output_type": "execute_result"
    }
   ],
   "source": [
    "package Pattern{\n",
    "    package ResourceRollupAspect{\n",
    "        import Structure::*;\n",
    "        import RealFunctions::*;\n",
    "        \n",
    "        part def 'Simple Static Resource Rollup Aspect'{\n",
    "            part system : System [0..*];\n",
    "            \n",
    "            attribute offset : Real = 0.0;\n",
    "            attribute totalProperty : Real = sum(system.staticProperty) + offset;\n",
    "            \n",
    "        }\n",
    "        \n",
    "    }\n",
    "    package Structure{\n",
    "        import ScalarValues::Real;\n",
    "        \n",
    "        part def System {\n",
    "            attribute staticProperty : Real;\n",
    "        }\n",
    "        part def Component specializes System;\n",
    "    }\n",
    "}"
   ]
  },
  {
   "cell_type": "markdown",
   "metadata": {},
   "source": [
    "<h3>Visualization</h3>\n",
    "<p>SysMl v2 is both a textual and graphical language, so in order to represent the text code in a graphical format, you need to use a visualization tool. In Jupyterlab this can be achieved by usin the '%viz' magic key. this is simply followed by the name of the package or part you would like to visualize. There are different view options which can be set using the '--view' command which allows you to set what type of "
   ]
  },
  {
   "cell_type": "code",
   "execution_count": 17,
   "metadata": {},
   "outputs": [
    {
     "data": {
      "image/svg+xml": [
       "<?xml version=\"1.0\" encoding=\"UTF-8\" standalone=\"no\"?><svg xmlns=\"http://www.w3.org/2000/svg\" xmlns:xlink=\"http://www.w3.org/1999/xlink\" contentStyleType=\"text/css\" height=\"262px\" preserveAspectRatio=\"none\" style=\"width:735px;height:262px;background:#FFFFFF;\" version=\"1.1\" viewBox=\"0 0 735 262\" width=\"735px\" zoomAndPan=\"magnify\"><defs/><g><!--MD5=[fbc87193dbaf4d95561dea2c320d4a47]\n",
       "cluster E1--><g id=\"cluster_E1\"><a href=\"psysml:91c37cec-2ded-4ee8-8a2d-1ea38adca4d3\" target=\"_top\" title=\"psysml:91c37cec-2ded-4ee8-8a2d-1ea38adca4d3\" xlink:actuate=\"onRequest\" xlink:href=\"psysml:91c37cec-2ded-4ee8-8a2d-1ea38adca4d3\" xlink:show=\"new\" xlink:title=\"psysml:91c37cec-2ded-4ee8-8a2d-1ea38adca4d3\" xlink:type=\"simple\"><polygon fill=\"none\" points=\"16,6,200,6,207,28.2969,718,28.2969,718,255,16,255,16,6\" style=\"stroke:#000000;stroke-width:1.5;\"/><line style=\"stroke:#000000;stroke-width:1.5;\" x1=\"16\" x2=\"207\" y1=\"28.2969\" y2=\"28.2969\"/><text fill=\"#000000\" font-family=\"sans-serif\" font-size=\"14\" font-weight=\"bold\" lengthAdjust=\"spacing\" textLength=\"178\" x=\"20\" y=\"20.9951\">ResourceRollupAspect</text></a></g><!--MD5=[e4f7fae6ed58524ba242bb0b0d3be6b7]\n",
       "cluster E2--><g id=\"cluster_E2\"><a href=\"psysml:08de3f4e-739d-4171-8dec-de459110e22c\" target=\"_top\" title=\"psysml:08de3f4e-739d-4171-8dec-de459110e22c\" xlink:actuate=\"onRequest\" xlink:href=\"psysml:08de3f4e-739d-4171-8dec-de459110e22c\" xlink:show=\"new\" xlink:title=\"psysml:08de3f4e-739d-4171-8dec-de459110e22c\" xlink:type=\"simple\"><rect fill=\"#FFFFFF\" height=\"182\" id=\"E2\" style=\"stroke:#383838;stroke-width:1.5;\" width=\"654\" x=\"40\" y=\"49\"/><text fill=\"#000000\" font-family=\"sans-serif\" font-size=\"12\" font-style=\"italic\" lengthAdjust=\"spacing\" textLength=\"68\" x=\"333\" y=\"65.1387\">«part  def»</text><text fill=\"#000000\" font-family=\"sans-serif\" font-size=\"14\" lengthAdjust=\"spacing\" textLength=\"258\" x=\"238\" y=\"80.9639\">Simple Static Resource Rollup Aspect</text><line style=\"stroke:#383838;stroke-width:1.0;\" x1=\"40\" x2=\"694\" y1=\"89.2656\" y2=\"89.2656\"/></a></g><!--MD5=[d5e69f78d87373223dbae638b30a9c99]\n",
       "cluster E3--><g id=\"cluster_E3\"><a href=\"psysml:e119365f-6b66-4f36-9a76-f0634cb15242\" target=\"_top\" title=\"psysml:e119365f-6b66-4f36-9a76-f0634cb15242\" xlink:actuate=\"onRequest\" xlink:href=\"psysml:e119365f-6b66-4f36-9a76-f0634cb15242\" xlink:show=\"new\" xlink:title=\"psysml:e119365f-6b66-4f36-9a76-f0634cb15242\" xlink:type=\"simple\"><rect fill=\"#FFFFFF\" height=\"99\" id=\"E3\" rx=\"10\" ry=\"10\" style=\"stroke:#383838;stroke-width:1.5;\" width=\"192\" x=\"478\" y=\"108\"/><text fill=\"#000000\" font-family=\"sans-serif\" font-size=\"14\" lengthAdjust=\"spacing\" textLength=\"110\" x=\"519\" y=\"125.9951\">system: System</text><line style=\"stroke:#383838;stroke-width:1.0;\" x1=\"478\" x2=\"670\" y1=\"134.2969\" y2=\"134.2969\"/></a></g><!--MD5=[270fce915f116d4de14055a7c1d9a0f3]\n",
       "class E5--><a href=\"psysml:2c435b19-b5f6-4867-b4c9-a69c1d42a245\" target=\"_top\" title=\"psysml:2c435b19-b5f6-4867-b4c9-a69c1d42a245\" xlink:actuate=\"onRequest\" xlink:href=\"psysml:2c435b19-b5f6-4867-b4c9-a69c1d42a245\" xlink:show=\"new\" xlink:title=\"psysml:2c435b19-b5f6-4867-b4c9-a69c1d42a245\" xlink:type=\"simple\"><g id=\"elem_E5\"><rect fill=\"#FFFFFF\" height=\"75.0813\" id=\"E5\" rx=\"10\" ry=\"10\" style=\"stroke:#181818;stroke-width:0.5;\" width=\"92\" x=\"367\" y=\"129.5\"/><text fill=\"#000000\" font-family=\"sans-serif\" font-size=\"12\" font-style=\"italic\" lengthAdjust=\"spacing\" textLength=\"69\" x=\"378.5\" y=\"145.6387\">«attribute»</text><text fill=\"#000000\" font-family=\"sans-serif\" font-size=\"14\" lengthAdjust=\"spacing\" textLength=\"78\" x=\"370\" y=\"161.4639\">offset: Real</text><line style=\"stroke:#181818;stroke-width:0.5;\" x1=\"368\" x2=\"458\" y1=\"169.7656\" y2=\"169.7656\"/><text fill=\"#000000\" font-family=\"sans-serif\" font-size=\"14\" lengthAdjust=\"spacing\" textLength=\"38\" x=\"373\" y=\"197.2795\">= 0.0</text><text fill=\"#000000\" font-family=\"sans-serif\" font-size=\"14\" font-style=\"italic\" lengthAdjust=\"spacing\" textLength=\"44\" x=\"391\" y=\"182.1123\">values</text></g></a><!--MD5=[60a26617385b1d2d0262a64233df1f8d]\n",
       "class E6--><a href=\"psysml:39612050-4d7c-4868-873b-33b3a3e48264\" target=\"_top\" title=\"psysml:39612050-4d7c-4868-873b-33b3a3e48264\" xlink:actuate=\"onRequest\" xlink:href=\"psysml:39612050-4d7c-4868-873b-33b3a3e48264\" xlink:show=\"new\" xlink:title=\"psysml:39612050-4d7c-4868-873b-33b3a3e48264\" xlink:type=\"simple\"><g id=\"elem_E6\"><rect fill=\"#FFFFFF\" height=\"75.0813\" id=\"E6\" rx=\"10\" ry=\"10\" style=\"stroke:#181818;stroke-width:0.5;\" width=\"276\" x=\"56\" y=\"129.5\"/><text fill=\"#000000\" font-family=\"sans-serif\" font-size=\"12\" font-style=\"italic\" lengthAdjust=\"spacing\" textLength=\"69\" x=\"159.5\" y=\"145.6387\">«attribute»</text><text fill=\"#000000\" font-family=\"sans-serif\" font-size=\"14\" lengthAdjust=\"spacing\" textLength=\"127\" x=\"126.5\" y=\"161.4639\">totalProperty: Real</text><line style=\"stroke:#181818;stroke-width:0.5;\" x1=\"57\" x2=\"331\" y1=\"169.7656\" y2=\"169.7656\"/><text fill=\"#000000\" font-family=\"sans-serif\" font-size=\"14\" lengthAdjust=\"spacing\" textLength=\"264\" x=\"62\" y=\"197.2795\">= sum(system.staticProperty) + offset</text><text fill=\"#000000\" font-family=\"sans-serif\" font-size=\"14\" font-style=\"italic\" lengthAdjust=\"spacing\" textLength=\"44\" x=\"172\" y=\"182.1123\">values</text></g></a><!--MD5=[ebbe1d658d1005bcc118a6aa81145e00]\n",
       "class E4--><a href=\"psysml:6622698b-f881-4c18-be00-44642357601e\" target=\"_top\" title=\"psysml:6622698b-f881-4c18-be00-44642357601e\" xlink:actuate=\"onRequest\" xlink:href=\"psysml:6622698b-f881-4c18-be00-44642357601e\" xlink:show=\"new\" xlink:title=\"psysml:6622698b-f881-4c18-be00-44642357601e\" xlink:type=\"simple\"><g id=\"elem_E4\"><rect fill=\"#FFFFFF\" height=\"48.2656\" id=\"E4\" rx=\"10\" ry=\"10\" style=\"stroke:#181818;stroke-width:0.5;\" width=\"160\" x=\"494\" y=\"143\"/><text fill=\"#000000\" font-family=\"sans-serif\" font-size=\"12\" font-style=\"italic\" lengthAdjust=\"spacing\" textLength=\"69\" x=\"539.5\" y=\"159.1387\">«attribute»</text><text fill=\"#000000\" font-family=\"sans-serif\" font-size=\"14\" lengthAdjust=\"spacing\" textLength=\"146\" x=\"497\" y=\"174.9639\">^staticProperty: Real</text><line style=\"stroke:#181818;stroke-width:0.5;\" x1=\"495\" x2=\"653\" y1=\"183.2656\" y2=\"183.2656\"/></g></a><!--MD5=[9f87fae8c668b2fc0c50f27319dc1fad]\n",
       "@startuml\r\n",
       "skin sysmlbw\r\n",
       "skinparam monochrome true\r\n",
       "skinparam wrapWidth 300\r\n",
       "hide circle\r\n",
       "skinparam ranksep 10\r\n",
       "skinparam rectangle {\r\n",
       " backgroundColor<<block>> LightGreen\r\n",
       "}\r\n",
       "\r\n",
       "package \"ResourceRollupAspect\" as E1  [[psysml:91c37cec-2ded-4ee8-8a2d-1ea38adca4d3 ]]  {\r\n",
       "rec def \"Simple Static Resource Rollup Aspect\" as E2  <<(T,blue) part  def>> [[psysml:08de3f4e-739d-4171-8dec-de459110e22c ]] {\r\n",
       "rec usage \"system: System\" as E3 [[psysml:e119365f-6b66-4f36-9a76-f0634cb15242 ]] {\r\n",
       "comp usage \"^staticProperty: Real  \" as E4  <<(T,blue) attribute>> [[psysml:6622698b-f881-4c18-be00-44642357601e ]] {\r\n",
       "}\r\n",
       "}\r\n",
       "comp usage \"offset: Real  \" as E5  <<(T,blue) attribute>> [[psysml:2c435b19-b5f6-4867-b4c9-a69c1d42a245 ]] {\r\n",
       "##//values//##\r\n",
       " <U+003D> 0.0\r\n",
       "}\r\n",
       "comp usage \"totalProperty: Real  \" as E6  <<(T,blue) attribute>> [[psysml:39612050-4d7c-4868-873b-33b3a3e48264 ]] {\r\n",
       "##//values//##\r\n",
       " <U+003D> sum(system.staticProperty) + offset\r\n",
       "}\r\n",
       "}\r\n",
       "}\r\n",
       "@enduml\r\n",
       "\n",
       "PlantUML version 1.2022.7(Mon Aug 22 17:01:30 UTC 2022)\n",
       "(EPL source distribution)\n",
       "Java Runtime: OpenJDK Runtime Environment\n",
       "JVM: OpenJDK 64-Bit Server VM\n",
       "Default Encoding: UTF-8\n",
       "Language: en\n",
       "Country: null\n",
       "--></g></svg>"
      ]
     },
     "execution_count": 17,
     "metadata": {},
     "output_type": "execute_result"
    }
   ],
   "source": [
    "%viz Pattern::ResourceRollupAspect"
   ]
  },
  {
   "cell_type": "markdown",
   "metadata": {},
   "source": [
    "<h2>Consequences</h2>\n",
    "<p>There are several trade-offs to consider when configuring the Simple Static Roll-up pattern to the modeler's system.</p>\n",
    "<table>\n",
    "    <tr>\n",
    "        <td> <h3> Action </h3></td>\n",
    "        <td><h3>Consequence</h3></td>\n",
    "    </tr>\n",
    "    <tr>\n",
    "        <td> Redefining the static value properties of the system's components</td>\n",
    "        <td>By redefining the static value properties of the system's components, the modeler can modify the values. If the static value of a component isn't redefined, the value will default to the value of the base class. Redefinition provides a method for specifying the component's attributes such that the modeler can view and modify the aggregated value properties of the component's generalization hierarchy. This creates a full specification of the component being the leaf element in this hierarchy. </td>\n",
    "    </tr>\n",
    "    <tr>\n",
    "        <td> Creating instance specifications to define the values of the system's components</td>\n",
    "        <td>By creating instance specifications to define the initial values of the system, the modeler is able to track different configurations. New configurations for a scenario can be easily created and viewed in an instance table. The value properties are visible in the block specification.</td>\n",
    "    </tr>\n",
    "    <tr>\n",
    "        <td>Modifying the system model when applying the roll-up pattern to the system\t</td>\n",
    "        <td> A consequence of needing to modify the system design results in an authority/ownership problem. An example of this occurs when an authority owns and modifies components of the system design and system decomposition. If another authority requires to perform a roll-up analysis of this design, they will need to augment the system design in order to define the relation between the system properties, e.g. the mass of one component is the sum of the mass of its children. A possible SysML work around is to use multi-classification at the instance specification level i.e. the instance specification is specified by the component classifier and the roll-up aspect classifier. The drawback to this approach is that the value properties are not visible in the block specification and only in the instance specification level.</td>\n",
    "    </tr>\n",
    "    <tr>\n",
    "        <td>Subsetting all composition relationships of the system's hierarchy\t</td>\n",
    "        <td>The modeler must subset every element in the hierarchy which can become burdensome depending on the number of components and relationships in the system. A possible solution would be to use a reasoning tool to automate this process.</td>\n",
    "    </tr>\n",
    "</table>\n",
    "    \n",
    "    "
   ]
  },
  {
   "cell_type": "markdown",
   "metadata": {},
   "source": [
    "<h2>Implementation</h2>\n",
    "<p>The Simple Static pattern should be used if a modeler's system is linear. The breakdown structure of the system should only consist of one component or subsystem, and is specialized by an infinite amount of subcomponents. The unique quality of the pattern is that every subcomponent of the system shares only one static property that is independent of the component's behavior. By applying the pattern to a product breakdown structure, the modeler can calculate the sum of all the static property values. In this example, the sum of all the values for volume will be calculated. <p>\n",
    "    <p>To apply the structure of the pattern to the Subsystem with Volume system, the Simple Static Roll-up Aspect needs to be augmented to reflect the value (volume) that is to be propagated in the system. The derived value property totalProperty has been modified to totalVolume and ownStaticProperty has been changed to volume. In the parametric model of the Analysis Context block, the totalVolume is equal to the total parameter, the volume of the Subsystem with Volume is equal to the child parameter, and the value of offset is equal to the offset parameter of the constraint.</p>\n",
    "    <p>The Analysis block has been created to decouple the system design from its actual analysis, and for displaying the results of the volume propagation. The relationship between the Analysis Context block and the top level hierarchical component of the system is a whole-part relationship.</p>\n",
    "    <p>All components of the system specialize the subsystem, and will inherit it's behavior and volume property. Either through redefinition or through instance specifications can the value of the volume property of the components be specified.</p>"
   ]
  },
  {
   "cell_type": "code",
   "execution_count": 18,
   "metadata": {},
   "outputs": [
    {
     "data": {
      "text/plain": [
       "Package SimpleStaticVolumeExample (51910698-7fab-481b-9ebc-886979a1d40c)\n"
      ]
     },
     "execution_count": 18,
     "metadata": {},
     "output_type": "execute_result"
    }
   ],
   "source": [
    "package SimpleStaticVolumeExample{\n",
    "    import Views::*;\n",
    "    \n",
    "    package Analysis{\n",
    "        import RealFunctions::*; // import Real functions package so that you can sum values and do calculations\n",
    "        import Structure::*; //Import all components of structure to be able to analyze structure components\n",
    "\n",
    "        part def AnalysisContext{\n",
    "            part subsystem : SubsystemWithVolume [0..*];\n",
    "            \n",
    "            //part subsystem : Subsystem [0..*];\n",
    "            \n",
    "            attribute offset : Real = 0.0;\n",
    "            attribute totalVolume : Real = sum(subsystem.volume)+offset; \n",
    "                \n",
    "        }\n",
    "        \n",
    "    }\n",
    "\n",
    "    package Structure{\n",
    "        import ScalarValues::Real;\n",
    "        \n",
    "        part def SubsystemWithVolume{\n",
    "            attribute volume : Real;\n",
    "        }\n",
    "\n",
    "        part def ComponentA specializes SubsystemWithVolume;\n",
    "        part def ComponentB specializes SubsystemWithVolume;\n",
    "        part def ComponentC specializes SubsystemWithVolume;\n",
    "        part def ComponentD specializes SubsystemWithVolume;\n",
    "\n",
    "        \n",
    "    }\n",
    "    \n",
    "}"
   ]
  },
  {
   "cell_type": "code",
   "execution_count": 19,
   "metadata": {},
   "outputs": [
    {
     "data": {
      "image/svg+xml": [
       "<?xml version=\"1.0\" encoding=\"UTF-8\" standalone=\"no\"?><svg xmlns=\"http://www.w3.org/2000/svg\" xmlns:xlink=\"http://www.w3.org/1999/xlink\" contentStyleType=\"text/css\" height=\"600px\" preserveAspectRatio=\"none\" style=\"width:1016px;height:600px;background:#FFFFFF;\" version=\"1.1\" viewBox=\"0 0 1016 600\" width=\"1016px\" zoomAndPan=\"magnify\"><defs/><g><!--MD5=[fbc87193dbaf4d95561dea2c320d4a47]\n",
       "cluster E1--><g id=\"cluster_E1\"><a href=\"psysml:51910698-7fab-481b-9ebc-886979a1d40c\" target=\"_top\" title=\"psysml:51910698-7fab-481b-9ebc-886979a1d40c\" xlink:actuate=\"onRequest\" xlink:href=\"psysml:51910698-7fab-481b-9ebc-886979a1d40c\" xlink:show=\"new\" xlink:title=\"psysml:51910698-7fab-481b-9ebc-886979a1d40c\" xlink:type=\"simple\"><polygon fill=\"none\" points=\"16,6,242,6,249,28.2969,999,28.2969,999,593.5,16,593.5,16,6\" style=\"stroke:#000000;stroke-width:1.5;\"/><line style=\"stroke:#000000;stroke-width:1.5;\" x1=\"16\" x2=\"249\" y1=\"28.2969\" y2=\"28.2969\"/><text fill=\"#000000\" font-family=\"sans-serif\" font-size=\"14\" font-weight=\"bold\" lengthAdjust=\"spacing\" textLength=\"220\" x=\"20\" y=\"20.9951\">SimpleStaticVolumeExample</text></a></g><!--MD5=[e4f7fae6ed58524ba242bb0b0d3be6b7]\n",
       "cluster E2--><g id=\"cluster_E2\"><a href=\"psysml:d2575923-a2f1-4d01-9ffc-a36475c5366d\" target=\"_top\" title=\"psysml:d2575923-a2f1-4d01-9ffc-a36475c5366d\" xlink:actuate=\"onRequest\" xlink:href=\"psysml:d2575923-a2f1-4d01-9ffc-a36475c5366d\" xlink:show=\"new\" xlink:title=\"psysml:d2575923-a2f1-4d01-9ffc-a36475c5366d\" xlink:type=\"simple\"><polygon fill=\"none\" points=\"48,57,119,57,126,79.2969,362,79.2969,362,407.5,48,407.5,48,57\" style=\"stroke:#000000;stroke-width:1.5;\"/><line style=\"stroke:#000000;stroke-width:1.5;\" x1=\"48\" x2=\"126\" y1=\"79.2969\" y2=\"79.2969\"/><text fill=\"#000000\" font-family=\"sans-serif\" font-size=\"14\" font-weight=\"bold\" lengthAdjust=\"spacing\" textLength=\"65\" x=\"52\" y=\"71.9951\">Analysis</text></a></g><!--MD5=[de5ec2e2e8f62f467e546659f5068c88]\n",
       "cluster E5--><g id=\"cluster_E5\"><a href=\"psysml:1e698a93-8847-49e3-acb5-80670afcb324\" target=\"_top\" title=\"psysml:1e698a93-8847-49e3-acb5-80670afcb324\" xlink:actuate=\"onRequest\" xlink:href=\"psysml:1e698a93-8847-49e3-acb5-80670afcb324\" xlink:show=\"new\" xlink:title=\"psysml:1e698a93-8847-49e3-acb5-80670afcb324\" xlink:type=\"simple\"><polygon fill=\"none\" points=\"402,279,483,279,490,301.2969,967,301.2969,967,561.5,402,561.5,402,279\" style=\"stroke:#000000;stroke-width:1.5;\"/><line style=\"stroke:#000000;stroke-width:1.5;\" x1=\"402\" x2=\"490\" y1=\"301.2969\" y2=\"301.2969\"/><text fill=\"#000000\" font-family=\"sans-serif\" font-size=\"14\" font-weight=\"bold\" lengthAdjust=\"spacing\" textLength=\"75\" x=\"406\" y=\"293.9951\">Structure</text></a></g><!--MD5=[09b614a08d8cba4a07c9adeb5e0fee81]\n",
       "class E3--><a href=\"psysml:255a9af6-e798-46b2-a592-bb11cac5f368\" target=\"_top\" title=\"psysml:255a9af6-e798-46b2-a592-bb11cac5f368\" xlink:actuate=\"onRequest\" xlink:href=\"psysml:255a9af6-e798-46b2-a592-bb11cac5f368\" xlink:show=\"new\" xlink:title=\"psysml:255a9af6-e798-46b2-a592-bb11cac5f368\" xlink:type=\"simple\"><g id=\"elem_E3\"><rect fill=\"#FFFFFF\" height=\"107.675\" id=\"E3\" style=\"stroke:#181818;stroke-width:0.5;\" width=\"233\" x=\"84.5\" y=\"100\"/><text fill=\"#000000\" font-family=\"sans-serif\" font-size=\"12\" font-style=\"italic\" lengthAdjust=\"spacing\" textLength=\"68\" x=\"167\" y=\"116.1387\">«part  def»</text><text fill=\"#000000\" font-family=\"sans-serif\" font-size=\"14\" lengthAdjust=\"spacing\" textLength=\"109\" x=\"146.5\" y=\"131.9639\">AnalysisContext</text><line style=\"stroke:#181818;stroke-width:0.5;\" x1=\"85.5\" x2=\"316.5\" y1=\"140.2656\" y2=\"140.2656\"/><text fill=\"#000000\" font-family=\"sans-serif\" font-size=\"14\" lengthAdjust=\"spacing\" textLength=\"120\" x=\"90.5\" y=\"167.7795\">offset: Real = 0.0</text><text fill=\"#000000\" font-family=\"sans-serif\" font-size=\"14\" lengthAdjust=\"spacing\" textLength=\"137\" x=\"90.5\" y=\"184.0764\">totalVolume: Real =</text><text fill=\"#000000\" font-family=\"sans-serif\" font-size=\"14\" lengthAdjust=\"spacing\" textLength=\"221\" x=\"90.5\" y=\"200.3732\">sum(subsystem.volume)+offset</text><text fill=\"#000000\" font-family=\"sans-serif\" font-size=\"14\" font-style=\"italic\" lengthAdjust=\"spacing\" textLength=\"65\" x=\"168.5\" y=\"152.6123\">attributes</text></g></a><!--MD5=[ebbe1d658d1005bcc118a6aa81145e00]\n",
       "class E4--><a href=\"psysml:ce8b9d42-2dfc-4a88-83c8-f6b269e225ce\" target=\"_top\" title=\"psysml:ce8b9d42-2dfc-4a88-83c8-f6b269e225ce\" xlink:actuate=\"onRequest\" xlink:href=\"psysml:ce8b9d42-2dfc-4a88-83c8-f6b269e225ce\" xlink:show=\"new\" xlink:title=\"psysml:ce8b9d42-2dfc-4a88-83c8-f6b269e225ce\" xlink:type=\"simple\"><g id=\"elem_E4\"><rect fill=\"#FFFFFF\" height=\"75.0813\" id=\"E4\" rx=\"10\" ry=\"10\" style=\"stroke:#181818;stroke-width:0.5;\" width=\"258\" x=\"72\" y=\"308.5\"/><text fill=\"#000000\" font-family=\"sans-serif\" font-size=\"12\" font-style=\"italic\" lengthAdjust=\"spacing\" textLength=\"40\" x=\"181\" y=\"324.6387\">«part»</text><text fill=\"#000000\" font-family=\"sans-serif\" font-size=\"14\" lengthAdjust=\"spacing\" textLength=\"244\" x=\"75\" y=\"340.4639\">subsystem: SubsystemWithVolume</text><line style=\"stroke:#181818;stroke-width:0.5;\" x1=\"73\" x2=\"329\" y1=\"348.7656\" y2=\"348.7656\"/><text fill=\"#000000\" font-family=\"sans-serif\" font-size=\"14\" lengthAdjust=\"spacing\" textLength=\"101\" x=\"78\" y=\"376.2795\">^volume: Real</text><text fill=\"#000000\" font-family=\"sans-serif\" font-size=\"14\" font-style=\"italic\" lengthAdjust=\"spacing\" textLength=\"65\" x=\"168.5\" y=\"361.1123\">attributes</text></g></a><!--MD5=[60a26617385b1d2d0262a64233df1f8d]\n",
       "class E6--><a href=\"psysml:a4093e46-c64f-479d-9dc3-60aa5f01951e\" target=\"_top\" title=\"psysml:a4093e46-c64f-479d-9dc3-60aa5f01951e\" xlink:actuate=\"onRequest\" xlink:href=\"psysml:a4093e46-c64f-479d-9dc3-60aa5f01951e\" xlink:show=\"new\" xlink:title=\"psysml:a4093e46-c64f-479d-9dc3-60aa5f01951e\" xlink:type=\"simple\"><g id=\"elem_E6\"><rect fill=\"#FFFFFF\" height=\"75.0813\" id=\"E6\" style=\"stroke:#181818;stroke-width:0.5;\" width=\"165\" x=\"546.5\" y=\"462.5\"/><text fill=\"#000000\" font-family=\"sans-serif\" font-size=\"12\" font-style=\"italic\" lengthAdjust=\"spacing\" textLength=\"68\" x=\"595\" y=\"478.6387\">«part  def»</text><text fill=\"#000000\" font-family=\"sans-serif\" font-size=\"14\" lengthAdjust=\"spacing\" textLength=\"159\" x=\"549.5\" y=\"494.4639\">SubsystemWithVolume</text><line style=\"stroke:#181818;stroke-width:0.5;\" x1=\"547.5\" x2=\"710.5\" y1=\"502.7656\" y2=\"502.7656\"/><text fill=\"#000000\" font-family=\"sans-serif\" font-size=\"14\" lengthAdjust=\"spacing\" textLength=\"89\" x=\"552.5\" y=\"530.2795\">volume: Real</text><text fill=\"#000000\" font-family=\"sans-serif\" font-size=\"14\" font-style=\"italic\" lengthAdjust=\"spacing\" textLength=\"65\" x=\"596.5\" y=\"515.1123\">attributes</text></g></a><!--MD5=[2156ba9850f5573cc1fc38a6a4b2f02b]\n",
       "class E7--><a href=\"psysml:46620195-ce2c-46e7-86cf-1d752b8d40a3\" target=\"_top\" title=\"psysml:46620195-ce2c-46e7-86cf-1d752b8d40a3\" xlink:actuate=\"onRequest\" xlink:href=\"psysml:46620195-ce2c-46e7-86cf-1d752b8d40a3\" xlink:show=\"new\" xlink:title=\"psysml:46620195-ce2c-46e7-86cf-1d752b8d40a3\" xlink:type=\"simple\"><g id=\"elem_E7\"><rect fill=\"#FFFFFF\" height=\"48.2656\" id=\"E7\" style=\"stroke:#181818;stroke-width:0.5;\" width=\"97\" x=\"846.5\" y=\"322\"/><text fill=\"#000000\" font-family=\"sans-serif\" font-size=\"12\" font-style=\"italic\" lengthAdjust=\"spacing\" textLength=\"68\" x=\"861\" y=\"338.1387\">«part  def»</text><text fill=\"#000000\" font-family=\"sans-serif\" font-size=\"14\" lengthAdjust=\"spacing\" textLength=\"91\" x=\"849.5\" y=\"353.9639\">ComponentA</text><line style=\"stroke:#181818;stroke-width:0.5;\" x1=\"847.5\" x2=\"942.5\" y1=\"362.2656\" y2=\"362.2656\"/></g></a><!--MD5=[b9389687b975829384b498ac4b7476b2]\n",
       "class E8--><a href=\"psysml:1bbf1e29-be08-4fc9-827c-549eff68627c\" target=\"_top\" title=\"psysml:1bbf1e29-be08-4fc9-827c-549eff68627c\" xlink:actuate=\"onRequest\" xlink:href=\"psysml:1bbf1e29-be08-4fc9-827c-549eff68627c\" xlink:show=\"new\" xlink:title=\"psysml:1bbf1e29-be08-4fc9-827c-549eff68627c\" xlink:type=\"simple\"><g id=\"elem_E8\"><rect fill=\"#FFFFFF\" height=\"48.2656\" id=\"E8\" style=\"stroke:#181818;stroke-width:0.5;\" width=\"98\" x=\"713\" y=\"322\"/><text fill=\"#000000\" font-family=\"sans-serif\" font-size=\"12\" font-style=\"italic\" lengthAdjust=\"spacing\" textLength=\"68\" x=\"728\" y=\"338.1387\">«part  def»</text><text fill=\"#000000\" font-family=\"sans-serif\" font-size=\"14\" lengthAdjust=\"spacing\" textLength=\"92\" x=\"716\" y=\"353.9639\">ComponentB</text><line style=\"stroke:#181818;stroke-width:0.5;\" x1=\"714\" x2=\"810\" y1=\"362.2656\" y2=\"362.2656\"/></g></a><!--MD5=[fd4143e9d270a159db93a4ea2a975926]\n",
       "class E9--><a href=\"psysml:6f7ef128-8fec-469f-ba0c-f0f646329055\" target=\"_top\" title=\"psysml:6f7ef128-8fec-469f-ba0c-f0f646329055\" xlink:actuate=\"onRequest\" xlink:href=\"psysml:6f7ef128-8fec-469f-ba0c-f0f646329055\" xlink:show=\"new\" xlink:title=\"psysml:6f7ef128-8fec-469f-ba0c-f0f646329055\" xlink:type=\"simple\"><g id=\"elem_E9\"><rect fill=\"#FFFFFF\" height=\"48.2656\" id=\"E9\" style=\"stroke:#181818;stroke-width:0.5;\" width=\"98\" x=\"580\" y=\"322\"/><text fill=\"#000000\" font-family=\"sans-serif\" font-size=\"12\" font-style=\"italic\" lengthAdjust=\"spacing\" textLength=\"68\" x=\"595\" y=\"338.1387\">«part  def»</text><text fill=\"#000000\" font-family=\"sans-serif\" font-size=\"14\" lengthAdjust=\"spacing\" textLength=\"92\" x=\"583\" y=\"353.9639\">ComponentC</text><line style=\"stroke:#181818;stroke-width:0.5;\" x1=\"581\" x2=\"677\" y1=\"362.2656\" y2=\"362.2656\"/></g></a><!--MD5=[96f4274e9e20536e775497830990834d]\n",
       "class E10--><a href=\"psysml:3e07d4c2-70c3-4732-8d9a-43981d97e407\" target=\"_top\" title=\"psysml:3e07d4c2-70c3-4732-8d9a-43981d97e407\" xlink:actuate=\"onRequest\" xlink:href=\"psysml:3e07d4c2-70c3-4732-8d9a-43981d97e407\" xlink:show=\"new\" xlink:title=\"psysml:3e07d4c2-70c3-4732-8d9a-43981d97e407\" xlink:type=\"simple\"><g id=\"elem_E10\"><rect fill=\"#FFFFFF\" height=\"48.2656\" id=\"E10\" style=\"stroke:#181818;stroke-width:0.5;\" width=\"99\" x=\"445.5\" y=\"322\"/><text fill=\"#000000\" font-family=\"sans-serif\" font-size=\"12\" font-style=\"italic\" lengthAdjust=\"spacing\" textLength=\"68\" x=\"461\" y=\"338.1387\">«part  def»</text><text fill=\"#000000\" font-family=\"sans-serif\" font-size=\"14\" lengthAdjust=\"spacing\" textLength=\"93\" x=\"448.5\" y=\"353.9639\">ComponentD</text><line style=\"stroke:#181818;stroke-width:0.5;\" x1=\"446.5\" x2=\"543.5\" y1=\"362.2656\" y2=\"362.2656\"/></g></a><!--MD5=[4672eba38e49728da53d11aeb285b987]\n",
       "reverse link E3 to E4--><g id=\"link_E3_E4\"><a href=\"psysml:dad18931-9ac0-42b4-a7da-b0ae9aef797a\" target=\"_top\" title=\"psysml:dad18931-9ac0-42b4-a7da-b0ae9aef797a\" xlink:actuate=\"onRequest\" xlink:href=\"psysml:dad18931-9ac0-42b4-a7da-b0ae9aef797a\" xlink:show=\"new\" xlink:title=\"psysml:dad18931-9ac0-42b4-a7da-b0ae9aef797a\" xlink:type=\"simple\"><path d=\"M201,221.28 C201,250.5 201,283.73 201,308.39 \" fill=\"none\" id=\"E3-backto-E4\" style=\"stroke:#181818;stroke-width:1.0;\"/><polygon fill=\"#181818\" points=\"201,208.18,197,214.18,201,220.18,205,214.18,201,208.18\" style=\"stroke:#181818;stroke-width:1.0;\"/><text fill=\"#000000\" font-family=\"sans-serif\" font-size=\"13\" lengthAdjust=\"spacing\" textLength=\"7\" x=\"193.3766\" y=\"297.4263\">*</text></a></g><!--MD5=[dcad52bbbca2fe8adc741ce38b45dc12]\n",
       "link E2 to E5--><g id=\"link_E2_E5\"><a href=\"psysml:633ebeff-2973-4bc0-888a-a9c07690946a\" target=\"_top\" title=\"psysml:633ebeff-2973-4bc0-888a-a9c07690946a\" xlink:actuate=\"onRequest\" xlink:href=\"psysml:633ebeff-2973-4bc0-888a-a9c07690946a\" xlink:show=\"new\" xlink:title=\"psysml:633ebeff-2973-4bc0-888a-a9c07690946a\" xlink:type=\"simple\"><path d=\"M362.0643,182.361 C362.1414,182.6226 362.2189,182.8855 362.2968,183.1499 C362.6085,184.2075 362.9269,185.2874 363.2514,186.3884 C368.4441,204.005 375.2281,227.0212 382.0113,250.035 C388.7944,273.0488 395.5766,296.06 400.7655,313.6666 C401.0898,314.767 401.4079,315.8463 401.7193,316.9031 C401.7972,317.1674 401.8747,317.4302 401.9517,317.6916 \" fill=\"none\" id=\"E2-to-E5\" style=\"stroke:#181818;stroke-width:1.0;stroke-dasharray:7.0,7.0;\"/><polygon fill=\"#181818\" points=\"401.9517,317.6916,403.2443,307.9279,400.5382,312.8955,395.5706,310.1894,401.9517,317.6916\" style=\"stroke:#181818;stroke-width:1.0;\"/><text fill=\"#000000\" font-family=\"sans-serif\" font-size=\"13\" lengthAdjust=\"spacing\" textLength=\"65\" x=\"383\" y=\"251.0669\">«import»*</text></a></g><!--MD5=[79568f1e445c3877b6a54524624ccc7d]\n",
       "link E4 to E6--><g id=\"link_E4_E6\"><a href=\"psysml:7df22a73-252b-4571-a90c-6c9d22b83c06\" target=\"_top\" title=\"psysml:7df22a73-252b-4571-a90c-6c9d22b83c06\" xlink:actuate=\"onRequest\" xlink:href=\"psysml:7df22a73-252b-4571-a90c-6c9d22b83c06\" xlink:show=\"new\" xlink:title=\"psysml:7df22a73-252b-4571-a90c-6c9d22b83c06\" xlink:type=\"simple\"><path d=\"M289.89,383.67 C322.46,396.72 359.73,411.22 394,423.5 C437.36,439.04 485.73,454.84 527.27,467.94 \" fill=\"none\" id=\"E4-to-E6\" style=\"stroke:#181818;stroke-width:1.0;\"/><polygon fill=\"#FFFFFF\" points=\"546.44,473.95,526.2159,474.9435,530.4054,461.585,546.44,473.95\" style=\"stroke:#181818;stroke-width:1.0;\"/><ellipse cx=\"521.3756\" cy=\"471.3294\" fill=\"#181818\" rx=\"2\" ry=\"2\" style=\"stroke:#181818;stroke-width:1.0;\"/><ellipse cx=\"524.3681\" cy=\"461.7876\" fill=\"#181818\" rx=\"2\" ry=\"2\" style=\"stroke:#181818;stroke-width:1.0;\"/></a></g><!--MD5=[fbb449814971db3a0b8220cf225b9e01]\n",
       "link E7 to E6--><g id=\"link_E7_E6\"><a href=\"psysml:6e4eb83c-ee47-4e82-92b1-18908bdc1363\" target=\"_top\" title=\"psysml:6e4eb83c-ee47-4e82-92b1-18908bdc1363\" xlink:actuate=\"onRequest\" xlink:href=\"psysml:6e4eb83c-ee47-4e82-92b1-18908bdc1363\" xlink:show=\"new\" xlink:title=\"psysml:6e4eb83c-ee47-4e82-92b1-18908bdc1363\" xlink:type=\"simple\"><path d=\"M879.79,370.16 C867.74,386.95 849.56,409.13 829,423.5 C799.63,444.03 763.96,459.81 730.93,471.51 \" fill=\"none\" id=\"E7-to-E6\" style=\"stroke:#181818;stroke-width:1.0;\"/><polygon fill=\"none\" points=\"733.04,478.18,711.85,477.93,728.57,464.91,733.04,478.18\" style=\"stroke:#181818;stroke-width:1.0;\"/></a></g><!--MD5=[c5e8897d989ce984f93528998a7150fe]\n",
       "link E8 to E6--><g id=\"link_E8_E6\"><a href=\"psysml:d32efcc0-8b9c-4eb6-a7a4-f8be3ebdbf90\" target=\"_top\" title=\"psysml:d32efcc0-8b9c-4eb6-a7a4-f8be3ebdbf90\" xlink:actuate=\"onRequest\" xlink:href=\"psysml:d32efcc0-8b9c-4eb6-a7a4-f8be3ebdbf90\" xlink:show=\"new\" xlink:title=\"psysml:d32efcc0-8b9c-4eb6-a7a4-f8be3ebdbf90\" xlink:type=\"simple\"><path d=\"M742.16,370.17 C729.09,385.38 711.59,405.68 696,423.5 C689.34,431.12 682.27,439.14 675.32,447 \" fill=\"none\" id=\"E8-to-E6\" style=\"stroke:#181818;stroke-width:1.0;\"/><polygon fill=\"none\" points=\"680.32,451.9,661.82,462.23,669.85,442.62,680.32,451.9\" style=\"stroke:#181818;stroke-width:1.0;\"/></a></g><!--MD5=[60ac2c0cde89d4308155b0484e57a8ec]\n",
       "link E9 to E6--><g id=\"link_E9_E6\"><a href=\"psysml:24ce8f12-486b-4cd7-91fa-72217a5398f9\" target=\"_top\" title=\"psysml:24ce8f12-486b-4cd7-91fa-72217a5398f9\" xlink:actuate=\"onRequest\" xlink:href=\"psysml:24ce8f12-486b-4cd7-91fa-72217a5398f9\" xlink:show=\"new\" xlink:title=\"psysml:24ce8f12-486b-4cd7-91fa-72217a5398f9\" xlink:type=\"simple\"><path d=\"M629,370.09 C629,389.23 629,417.26 629,442.29 \" fill=\"none\" id=\"E9-to-E6\" style=\"stroke:#181818;stroke-width:1.0;\"/><polygon fill=\"none\" points=\"636,442.36,629,462.36,622,442.36,636,442.36\" style=\"stroke:#181818;stroke-width:1.0;\"/></a></g><!--MD5=[198716bf12f04006f5c20d61bde6d80d]\n",
       "link E10 to E6--><g id=\"link_E10_E6\"><a href=\"psysml:a5d4b694-77b5-45bf-9ceb-8e55672c507e\" target=\"_top\" title=\"psysml:a5d4b694-77b5-45bf-9ceb-8e55672c507e\" xlink:actuate=\"onRequest\" xlink:href=\"psysml:a5d4b694-77b5-45bf-9ceb-8e55672c507e\" xlink:show=\"new\" xlink:title=\"psysml:a5d4b694-77b5-45bf-9ceb-8e55672c507e\" xlink:type=\"simple\"><path d=\"M515.35,370.09 C533.32,390.47 560.18,420.94 583.28,447.13 \" fill=\"none\" id=\"E10-to-E6\" style=\"stroke:#181818;stroke-width:1.0;\"/><polygon fill=\"none\" points=\"588.72,442.73,596.7,462.36,578.22,451.99,588.72,442.73\" style=\"stroke:#181818;stroke-width:1.0;\"/></a></g><!--MD5=[3fe9a5eabb9a0dd2c7a2c144e972f2a4]\n",
       "@startuml\r\n",
       "skin sysmlbw\r\n",
       "skinparam monochrome true\r\n",
       "skinparam wrapWidth 300\r\n",
       "hide circle\r\n",
       "\r\n",
       "package \"SimpleStaticVolumeExample\" as E1  [[psysml:51910698-7fab-481b-9ebc-886979a1d40c ]]  {\r\n",
       "package \"Analysis\" as E2  [[psysml:d2575923-a2f1-4d01-9ffc-a36475c5366d ]]  {\r\n",
       "comp def \"AnalysisContext\" as E3  <<(T,blue) part  def>> [[psysml:255a9af6-e798-46b2-a592-bb11cac5f368 ]] {\r\n",
       "##//attributes//##\r\n",
       "offset: Real <U+003D> 0.0\r\n",
       "totalVolume: Real <U+003D> sum(subsystem.volume)+offset\r\n",
       "}\r\n",
       "comp usage \"subsystem: SubsystemWithVolume  \" as E4  <<(T,blue) part>> [[psysml:ce8b9d42-2dfc-4a88-83c8-f6b269e225ce ]] {\r\n",
       "##//attributes//##\r\n",
       "^volume: Real\r\n",
       "}\r\n",
       "}\r\n",
       "package \"Structure\" as E5  [[psysml:1e698a93-8847-49e3-acb5-80670afcb324 ]]  {\r\n",
       "comp def \"SubsystemWithVolume\" as E6  <<(T,blue) part  def>> [[psysml:a4093e46-c64f-479d-9dc3-60aa5f01951e ]] {\r\n",
       "##//attributes//##\r\n",
       "volume: Real\r\n",
       "}\r\n",
       "comp def \"ComponentA\" as E7  <<(T,blue) part  def>> [[psysml:46620195-ce2c-46e7-86cf-1d752b8d40a3 ]] {\r\n",
       "}\r\n",
       "comp def \"ComponentB\" as E8  <<(T,blue) part  def>> [[psysml:1bbf1e29-be08-4fc9-827c-549eff68627c ]] {\r\n",
       "}\r\n",
       "comp def \"ComponentC\" as E9  <<(T,blue) part  def>> [[psysml:6f7ef128-8fec-469f-ba0c-f0f646329055 ]] {\r\n",
       "}\r\n",
       "comp def \"ComponentD\" as E10  <<(T,blue) part  def>> [[psysml:3e07d4c2-70c3-4732-8d9a-43981d97e407 ]] {\r\n",
       "}\r\n",
       "}\r\n",
       "}\r\n",
       "E3 *- - \"*\"E4 [[psysml:dad18931-9ac0-42b4-a7da-b0ae9aef797a ]] \r\n",
       "E2 ..> E5 [[psysml:633ebeff-2973-4bc0-888a-a9c07690946a ]] : <<import>>*\r\n",
       "E4 - -:|> E6 [[psysml:7df22a73-252b-4571-a90c-6c9d22b83c06 ]] \r\n",
       "E7 - -|> E6 [[psysml:6e4eb83c-ee47-4e82-92b1-18908bdc1363 ]] \r\n",
       "E8 - -|> E6 [[psysml:d32efcc0-8b9c-4eb6-a7a4-f8be3ebdbf90 ]] \r\n",
       "E9 - -|> E6 [[psysml:24ce8f12-486b-4cd7-91fa-72217a5398f9 ]] \r\n",
       "E10 - -|> E6 [[psysml:a5d4b694-77b5-45bf-9ceb-8e55672c507e ]] \r\n",
       "@enduml\r\n",
       "\n",
       "PlantUML version 1.2022.7(Mon Aug 22 17:01:30 UTC 2022)\n",
       "(EPL source distribution)\n",
       "Java Runtime: OpenJDK Runtime Environment\n",
       "JVM: OpenJDK 64-Bit Server VM\n",
       "Default Encoding: UTF-8\n",
       "Language: en\n",
       "Country: null\n",
       "--></g></svg>"
      ]
     },
     "execution_count": 19,
     "metadata": {},
     "output_type": "execute_result"
    }
   ],
   "source": [
    "%viz --view=Default SimpleStaticVolumeExample "
   ]
  },
  {
   "cell_type": "markdown",
   "metadata": {},
   "source": [
    "<p>In this example, to define the value of volume for each component instance specifications have been created. In the instances of Components A, B, C, D the value for volume has been modified. </p>"
   ]
  },
  {
   "cell_type": "code",
   "execution_count": 20,
   "metadata": {},
   "outputs": [
    {
     "data": {
      "text/plain": [
       "PartDefinition analysisContext (3ae7686f-a914-4f32-9437-68a36206d2b0)\n",
       "PartUsage analysisExample (259c190b-9e79-494d-882b-582a0c28c4fa)\n"
      ]
     },
     "execution_count": 20,
     "metadata": {},
     "output_type": "execute_result"
    }
   ],
   "source": [
    "import SimpleStaticVolumeExample::Analysis::*;\n",
    "import SimpleStaticVolumeExample::Structure::*;\n",
    "individual part def analysisContext :> AnalysisContext;\n",
    "        \n",
    "individual part analysisExample : analysisContext{\n",
    "    part componentA : ComponentA subsets subsystem {\n",
    "        attribute :>> volume = 10.0;\n",
    "    }\n",
    "    part componentB : ComponentB subsets subsystem {\n",
    "        attribute :>> volume = 8.0;\n",
    "    }\n",
    "    part componentC : ComponentC subsets subsystem {\n",
    "        attribute :>> volume = 2.5;\n",
    "    }\n",
    "    part componentD : ComponentD subsets subsystem {\n",
    "        attribute :>> volume = 9.0;\n",
    "    }\n",
    "}\n"
   ]
  },
  {
   "cell_type": "code",
   "execution_count": 21,
   "metadata": {},
   "outputs": [
    {
     "data": {
      "image/svg+xml": [
       "<?xml version=\"1.0\" encoding=\"UTF-8\" standalone=\"no\"?><svg xmlns=\"http://www.w3.org/2000/svg\" xmlns:xlink=\"http://www.w3.org/1999/xlink\" contentStyleType=\"text/css\" height=\"206px\" preserveAspectRatio=\"none\" style=\"width:2020px;height:206px;background:#FFFFFF;\" version=\"1.1\" viewBox=\"0 0 2020 206\" width=\"2020px\" zoomAndPan=\"magnify\"><defs/><g><!--MD5=[fbc87193dbaf4d95561dea2c320d4a47]\n",
       "cluster E1--><g id=\"cluster_E1\"><a href=\"psysml:259c190b-9e79-494d-882b-582a0c28c4fa\" target=\"_top\" title=\"psysml:259c190b-9e79-494d-882b-582a0c28c4fa\" xlink:actuate=\"onRequest\" xlink:href=\"psysml:259c190b-9e79-494d-882b-582a0c28c4fa\" xlink:show=\"new\" xlink:title=\"psysml:259c190b-9e79-494d-882b-582a0c28c4fa\" xlink:type=\"simple\"><rect fill=\"#FFFFFF\" height=\"193\" id=\"E1\" rx=\"10\" ry=\"10\" style=\"stroke:#383838;stroke-width:1.5;\" width=\"2006\" x=\"7\" y=\"7\"/><text fill=\"#000000\" font-family=\"sans-serif\" font-size=\"14\" lengthAdjust=\"spacing\" textLength=\"229\" x=\"895.5\" y=\"24.9951\">analysisExample: analysisContext</text><line style=\"stroke:#383838;stroke-width:1.0;\" x1=\"7\" x2=\"2013\" y1=\"33.2969\" y2=\"33.2969\"/></a></g><!--MD5=[e4f7fae6ed58524ba242bb0b0d3be6b7]\n",
       "cluster E2--><g id=\"cluster_E2\"><a href=\"psysml:bfef979e-d57a-4242-90d6-f4c1b8f3ee39\" target=\"_top\" title=\"psysml:bfef979e-d57a-4242-90d6-f4c1b8f3ee39\" xlink:actuate=\"onRequest\" xlink:href=\"psysml:bfef979e-d57a-4242-90d6-f4c1b8f3ee39\" xlink:show=\"new\" xlink:title=\"psysml:bfef979e-d57a-4242-90d6-f4c1b8f3ee39\" xlink:type=\"simple\"><rect fill=\"#FFFFFF\" height=\"126\" id=\"E2\" rx=\"10\" ry=\"10\" style=\"stroke:#383838;stroke-width:1.5;\" width=\"472\" x=\"1517\" y=\"50\"/><text fill=\"#000000\" font-family=\"sans-serif\" font-size=\"14\" lengthAdjust=\"spacing\" textLength=\"401\" x=\"1552.5\" y=\"67.9951\">componentA: ComponentA:&gt;AnalysisContext::subsystem</text><line style=\"stroke:#383838;stroke-width:1.0;\" x1=\"1517\" x2=\"1989\" y1=\"76.2969\" y2=\"76.2969\"/></a></g><!--MD5=[f6df4d0ebaf0b5dfb2ced0ae5af7c670]\n",
       "cluster E4--><g id=\"cluster_E4\"><a href=\"psysml:53ccf20e-79b7-4874-acdd-e14be39486bb\" target=\"_top\" title=\"psysml:53ccf20e-79b7-4874-acdd-e14be39486bb\" xlink:actuate=\"onRequest\" xlink:href=\"psysml:53ccf20e-79b7-4874-acdd-e14be39486bb\" xlink:show=\"new\" xlink:title=\"psysml:53ccf20e-79b7-4874-acdd-e14be39486bb\" xlink:type=\"simple\"><rect fill=\"#FFFFFF\" height=\"126\" id=\"E4\" rx=\"10\" ry=\"10\" style=\"stroke:#383838;stroke-width:1.5;\" width=\"470\" x=\"1023\" y=\"50\"/><text fill=\"#000000\" font-family=\"sans-serif\" font-size=\"14\" lengthAdjust=\"spacing\" textLength=\"403\" x=\"1056.5\" y=\"67.9951\">componentB: ComponentB:&gt;AnalysisContext::subsystem</text><line style=\"stroke:#383838;stroke-width:1.0;\" x1=\"1023\" x2=\"1493\" y1=\"76.2969\" y2=\"76.2969\"/></a></g><!--MD5=[14e3b0961a2654348d326746436168a1]\n",
       "cluster E6--><g id=\"cluster_E6\"><a href=\"psysml:94e9c819-f7a6-4f20-9e04-7540dfafb181\" target=\"_top\" title=\"psysml:94e9c819-f7a6-4f20-9e04-7540dfafb181\" xlink:actuate=\"onRequest\" xlink:href=\"psysml:94e9c819-f7a6-4f20-9e04-7540dfafb181\" xlink:show=\"new\" xlink:title=\"psysml:94e9c819-f7a6-4f20-9e04-7540dfafb181\" xlink:type=\"simple\"><rect fill=\"#FFFFFF\" height=\"126\" id=\"E6\" rx=\"10\" ry=\"10\" style=\"stroke:#383838;stroke-width:1.5;\" width=\"472\" x=\"527\" y=\"50\"/><text fill=\"#000000\" font-family=\"sans-serif\" font-size=\"14\" lengthAdjust=\"spacing\" textLength=\"403\" x=\"561.5\" y=\"67.9951\">componentC: ComponentC:&gt;AnalysisContext::subsystem</text><line style=\"stroke:#383838;stroke-width:1.0;\" x1=\"527\" x2=\"999\" y1=\"76.2969\" y2=\"76.2969\"/></a></g><!--MD5=[55dfccfc6c49c2d10cd1bd2211a6c90c]\n",
       "cluster E8--><g id=\"cluster_E8\"><a href=\"psysml:f7943a2e-31db-4241-a2dd-a77253b51cc4\" target=\"_top\" title=\"psysml:f7943a2e-31db-4241-a2dd-a77253b51cc4\" xlink:actuate=\"onRequest\" xlink:href=\"psysml:f7943a2e-31db-4241-a2dd-a77253b51cc4\" xlink:show=\"new\" xlink:title=\"psysml:f7943a2e-31db-4241-a2dd-a77253b51cc4\" xlink:type=\"simple\"><rect fill=\"#FFFFFF\" height=\"126\" id=\"E8\" rx=\"10\" ry=\"10\" style=\"stroke:#383838;stroke-width:1.5;\" width=\"472\" x=\"31\" y=\"50\"/><text fill=\"#000000\" font-family=\"sans-serif\" font-size=\"14\" lengthAdjust=\"spacing\" textLength=\"405\" x=\"64.5\" y=\"67.9951\">componentD: ComponentD:&gt;AnalysisContext::subsystem</text><line style=\"stroke:#383838;stroke-width:1.0;\" x1=\"31\" x2=\"503\" y1=\"76.2969\" y2=\"76.2969\"/></a></g><!--MD5=[09b614a08d8cba4a07c9adeb5e0fee81]\n",
       "class E3--><a href=\"psysml:fb5f4cb3-ab8a-4a5f-b18c-1bf94d08db57\" target=\"_top\" title=\"psysml:fb5f4cb3-ab8a-4a5f-b18c-1bf94d08db57\" xlink:actuate=\"onRequest\" xlink:href=\"psysml:fb5f4cb3-ab8a-4a5f-b18c-1bf94d08db57\" xlink:show=\"new\" xlink:title=\"psysml:fb5f4cb3-ab8a-4a5f-b18c-1bf94d08db57\" xlink:type=\"simple\"><g id=\"elem_E3\"><rect fill=\"#FFFFFF\" height=\"75.0813\" id=\"E3\" rx=\"10\" ry=\"10\" style=\"stroke:#181818;stroke-width:0.5;\" width=\"71\" x=\"1717.5\" y=\"85\"/><text fill=\"#000000\" font-family=\"sans-serif\" font-size=\"12\" font-style=\"italic\" lengthAdjust=\"spacing\" textLength=\"69\" x=\"1718.5\" y=\"101.1387\">«attribute»</text><text fill=\"#000000\" font-family=\"sans-serif\" font-size=\"14\" lengthAdjust=\"spacing\" textLength=\"50\" x=\"1724\" y=\"116.9639\">volume</text><line style=\"stroke:#181818;stroke-width:0.5;\" x1=\"1718.5\" x2=\"1787.5\" y1=\"125.2656\" y2=\"125.2656\"/><text fill=\"#000000\" font-family=\"sans-serif\" font-size=\"14\" lengthAdjust=\"spacing\" textLength=\"47\" x=\"1723.5\" y=\"152.7795\">= 10.0</text><text fill=\"#000000\" font-family=\"sans-serif\" font-size=\"14\" font-style=\"italic\" lengthAdjust=\"spacing\" textLength=\"44\" x=\"1731\" y=\"137.6123\">values</text></g></a><!--MD5=[270fce915f116d4de14055a7c1d9a0f3]\n",
       "class E5--><a href=\"psysml:c98b0e58-8538-4b58-8a77-8ca1eb87fd77\" target=\"_top\" title=\"psysml:c98b0e58-8538-4b58-8a77-8ca1eb87fd77\" xlink:actuate=\"onRequest\" xlink:href=\"psysml:c98b0e58-8538-4b58-8a77-8ca1eb87fd77\" xlink:show=\"new\" xlink:title=\"psysml:c98b0e58-8538-4b58-8a77-8ca1eb87fd77\" xlink:type=\"simple\"><g id=\"elem_E5\"><rect fill=\"#FFFFFF\" height=\"75.0813\" id=\"E5\" rx=\"10\" ry=\"10\" style=\"stroke:#181818;stroke-width:0.5;\" width=\"71\" x=\"1222.5\" y=\"85\"/><text fill=\"#000000\" font-family=\"sans-serif\" font-size=\"12\" font-style=\"italic\" lengthAdjust=\"spacing\" textLength=\"69\" x=\"1223.5\" y=\"101.1387\">«attribute»</text><text fill=\"#000000\" font-family=\"sans-serif\" font-size=\"14\" lengthAdjust=\"spacing\" textLength=\"50\" x=\"1229\" y=\"116.9639\">volume</text><line style=\"stroke:#181818;stroke-width:0.5;\" x1=\"1223.5\" x2=\"1292.5\" y1=\"125.2656\" y2=\"125.2656\"/><text fill=\"#000000\" font-family=\"sans-serif\" font-size=\"14\" lengthAdjust=\"spacing\" textLength=\"38\" x=\"1228.5\" y=\"152.7795\">= 8.0</text><text fill=\"#000000\" font-family=\"sans-serif\" font-size=\"14\" font-style=\"italic\" lengthAdjust=\"spacing\" textLength=\"44\" x=\"1236\" y=\"137.6123\">values</text></g></a><!--MD5=[2156ba9850f5573cc1fc38a6a4b2f02b]\n",
       "class E7--><a href=\"psysml:3d69f92e-eaa6-47ad-add2-959d73c46ba2\" target=\"_top\" title=\"psysml:3d69f92e-eaa6-47ad-add2-959d73c46ba2\" xlink:actuate=\"onRequest\" xlink:href=\"psysml:3d69f92e-eaa6-47ad-add2-959d73c46ba2\" xlink:show=\"new\" xlink:title=\"psysml:3d69f92e-eaa6-47ad-add2-959d73c46ba2\" xlink:type=\"simple\"><g id=\"elem_E7\"><rect fill=\"#FFFFFF\" height=\"75.0813\" id=\"E7\" rx=\"10\" ry=\"10\" style=\"stroke:#181818;stroke-width:0.5;\" width=\"71\" x=\"727.5\" y=\"85\"/><text fill=\"#000000\" font-family=\"sans-serif\" font-size=\"12\" font-style=\"italic\" lengthAdjust=\"spacing\" textLength=\"69\" x=\"728.5\" y=\"101.1387\">«attribute»</text><text fill=\"#000000\" font-family=\"sans-serif\" font-size=\"14\" lengthAdjust=\"spacing\" textLength=\"50\" x=\"734\" y=\"116.9639\">volume</text><line style=\"stroke:#181818;stroke-width:0.5;\" x1=\"728.5\" x2=\"797.5\" y1=\"125.2656\" y2=\"125.2656\"/><text fill=\"#000000\" font-family=\"sans-serif\" font-size=\"14\" lengthAdjust=\"spacing\" textLength=\"38\" x=\"733.5\" y=\"152.7795\">= 2.5</text><text fill=\"#000000\" font-family=\"sans-serif\" font-size=\"14\" font-style=\"italic\" lengthAdjust=\"spacing\" textLength=\"44\" x=\"741\" y=\"137.6123\">values</text></g></a><!--MD5=[fd4143e9d270a159db93a4ea2a975926]\n",
       "class E9--><a href=\"psysml:6012bb6a-6996-4f31-b620-7b950cee1e99\" target=\"_top\" title=\"psysml:6012bb6a-6996-4f31-b620-7b950cee1e99\" xlink:actuate=\"onRequest\" xlink:href=\"psysml:6012bb6a-6996-4f31-b620-7b950cee1e99\" xlink:show=\"new\" xlink:title=\"psysml:6012bb6a-6996-4f31-b620-7b950cee1e99\" xlink:type=\"simple\"><g id=\"elem_E9\"><rect fill=\"#FFFFFF\" height=\"75.0813\" id=\"E9\" rx=\"10\" ry=\"10\" style=\"stroke:#181818;stroke-width:0.5;\" width=\"71\" x=\"231.5\" y=\"85\"/><text fill=\"#000000\" font-family=\"sans-serif\" font-size=\"12\" font-style=\"italic\" lengthAdjust=\"spacing\" textLength=\"69\" x=\"232.5\" y=\"101.1387\">«attribute»</text><text fill=\"#000000\" font-family=\"sans-serif\" font-size=\"14\" lengthAdjust=\"spacing\" textLength=\"50\" x=\"238\" y=\"116.9639\">volume</text><line style=\"stroke:#181818;stroke-width:0.5;\" x1=\"232.5\" x2=\"301.5\" y1=\"125.2656\" y2=\"125.2656\"/><text fill=\"#000000\" font-family=\"sans-serif\" font-size=\"14\" lengthAdjust=\"spacing\" textLength=\"38\" x=\"237.5\" y=\"152.7795\">= 9.0</text><text fill=\"#000000\" font-family=\"sans-serif\" font-size=\"14\" font-style=\"italic\" lengthAdjust=\"spacing\" textLength=\"44\" x=\"245\" y=\"137.6123\">values</text></g></a><!--MD5=[79b7bc7138740f52549c64f04d5f160a]\n",
       "@startuml\r\n",
       "skin sysmlbw\r\n",
       "skinparam monochrome true\r\n",
       "skinparam wrapWidth 300\r\n",
       "hide circle\r\n",
       "skinparam ranksep 10\r\n",
       "skinparam rectangle {\r\n",
       " backgroundColor<<block>> LightGreen\r\n",
       "}\r\n",
       "\r\n",
       "rec usage \"analysisExample: analysisContext\" as E1 [[psysml:259c190b-9e79-494d-882b-582a0c28c4fa ]] {\r\n",
       "rec usage \"componentA: ComponentA:>AnalysisContext::subsystem\" as E2 [[psysml:bfef979e-d57a-4242-90d6-f4c1b8f3ee39 ]] {\r\n",
       "comp usage \"volume  \" as E3  <<(T,blue) attribute>> [[psysml:fb5f4cb3-ab8a-4a5f-b18c-1bf94d08db57 ]] {\r\n",
       "##//values//##\r\n",
       " <U+003D> 10.0\r\n",
       "}\r\n",
       "}\r\n",
       "rec usage \"componentB: ComponentB:>AnalysisContext::subsystem\" as E4 [[psysml:53ccf20e-79b7-4874-acdd-e14be39486bb ]] {\r\n",
       "comp usage \"volume  \" as E5  <<(T,blue) attribute>> [[psysml:c98b0e58-8538-4b58-8a77-8ca1eb87fd77 ]] {\r\n",
       "##//values//##\r\n",
       " <U+003D> 8.0\r\n",
       "}\r\n",
       "}\r\n",
       "rec usage \"componentC: ComponentC:>AnalysisContext::subsystem\" as E6 [[psysml:94e9c819-f7a6-4f20-9e04-7540dfafb181 ]] {\r\n",
       "comp usage \"volume  \" as E7  <<(T,blue) attribute>> [[psysml:3d69f92e-eaa6-47ad-add2-959d73c46ba2 ]] {\r\n",
       "##//values//##\r\n",
       " <U+003D> 2.5\r\n",
       "}\r\n",
       "}\r\n",
       "rec usage \"componentD: ComponentD:>AnalysisContext::subsystem\" as E8 [[psysml:f7943a2e-31db-4241-a2dd-a77253b51cc4 ]] {\r\n",
       "comp usage \"volume  \" as E9  <<(T,blue) attribute>> [[psysml:6012bb6a-6996-4f31-b620-7b950cee1e99 ]] {\r\n",
       "##//values//##\r\n",
       " <U+003D> 9.0\r\n",
       "}\r\n",
       "}\r\n",
       "}\r\n",
       "@enduml\r\n",
       "\n",
       "PlantUML version 1.2022.7(Mon Aug 22 17:01:30 UTC 2022)\n",
       "(EPL source distribution)\n",
       "Java Runtime: OpenJDK Runtime Environment\n",
       "JVM: OpenJDK 64-Bit Server VM\n",
       "Default Encoding: UTF-8\n",
       "Language: en\n",
       "Country: null\n",
       "--></g></svg>"
      ]
     },
     "execution_count": 21,
     "metadata": {},
     "output_type": "execute_result"
    }
   ],
   "source": [
    "%viz --view=Interconnection analysisExample"
   ]
  },
  {
   "cell_type": "markdown",
   "metadata": {},
   "source": [
    "<h2>Analysis</h2>\n",
    "<p>The Simple Static Roll-up pattern helps to analyze a system model by demonstrating that the resource usage according to the system design satisfies a corresponding requirement for every defined specified scenario.</p>\n",
    "<p>After configuring the Roll-up pattern to the system an analysis context needs to be specified. In this analysis context , any operational scenarios need to be specified (in either sequence or activity diagrams), and the values of the configurations need to be specified either through redefinition or instance specifications.</p>"
   ]
  },
  {
   "cell_type": "markdown",
   "metadata": {},
   "source": [
    "<h2>Tooling</h2>\n",
    "The Pattern shown supports implementation of the Simple Static Roll-up pattern in Jupyter Notebooks"
   ]
  },
  {
   "cell_type": "code",
   "execution_count": null,
   "metadata": {},
   "outputs": [],
   "source": []
  }
 ],
 "metadata": {
  "kernelspec": {
   "display_name": "SysML",
   "language": "sysml",
   "name": "sysml"
  },
  "language_info": {
   "codemirror_mode": "sysml",
   "file_extension": ".sysml",
   "mimetype": "text/x-sysml",
   "name": "SysML",
   "pygments_lexer": "java",
   "version": "1.0.0"
  }
 },
 "nbformat": 4,
 "nbformat_minor": 4
}
